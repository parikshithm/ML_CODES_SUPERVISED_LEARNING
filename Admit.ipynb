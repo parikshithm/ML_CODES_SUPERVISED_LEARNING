{
 "cells": [
  {
   "cell_type": "code",
   "execution_count": 1,
   "id": "0103f8b7-597b-4a42-a0e4-cada3ea84181",
   "metadata": {},
   "outputs": [],
   "source": [
    "import pandas as pd\n",
    "raw_df=pd.read_excel('admit.xlsx')"
   ]
  },
  {
   "cell_type": "code",
   "execution_count": 2,
   "id": "347b21cb-de0a-495a-b183-d21e2843639d",
   "metadata": {},
   "outputs": [
    {
     "name": "stdout",
     "output_type": "stream",
     "text": [
      "<class 'pandas.core.frame.DataFrame'>\n",
      "RangeIndex: 400 entries, 0 to 399\n",
      "Data columns (total 5 columns):\n",
      " #   Column  Non-Null Count  Dtype  \n",
      "---  ------  --------------  -----  \n",
      " 0   admit   400 non-null    int64  \n",
      " 1   gre     400 non-null    int64  \n",
      " 2   gpa     400 non-null    float64\n",
      " 3   rank    400 non-null    int64  \n",
      " 4   gender  400 non-null    object \n",
      "dtypes: float64(1), int64(3), object(1)\n",
      "memory usage: 15.8+ KB\n"
     ]
    }
   ],
   "source": [
    "raw_df.info()"
   ]
  },
  {
   "cell_type": "code",
   "execution_count": 3,
   "id": "da3ede09-05f3-4e6c-8c9c-a996f2ffb5c4",
   "metadata": {},
   "outputs": [
    {
     "data": {
      "text/html": [
       "<div>\n",
       "<style scoped>\n",
       "    .dataframe tbody tr th:only-of-type {\n",
       "        vertical-align: middle;\n",
       "    }\n",
       "\n",
       "    .dataframe tbody tr th {\n",
       "        vertical-align: top;\n",
       "    }\n",
       "\n",
       "    .dataframe thead th {\n",
       "        text-align: right;\n",
       "    }\n",
       "</style>\n",
       "<table border=\"1\" class=\"dataframe\">\n",
       "  <thead>\n",
       "    <tr style=\"text-align: right;\">\n",
       "      <th></th>\n",
       "      <th>admit</th>\n",
       "      <th>gre</th>\n",
       "      <th>gpa</th>\n",
       "      <th>rank</th>\n",
       "      <th>gender</th>\n",
       "    </tr>\n",
       "  </thead>\n",
       "  <tbody>\n",
       "    <tr>\n",
       "      <th>0</th>\n",
       "      <td>1</td>\n",
       "      <td>660</td>\n",
       "      <td>3.67</td>\n",
       "      <td>3</td>\n",
       "      <td>Male</td>\n",
       "    </tr>\n",
       "    <tr>\n",
       "      <th>1</th>\n",
       "      <td>1</td>\n",
       "      <td>800</td>\n",
       "      <td>4.00</td>\n",
       "      <td>1</td>\n",
       "      <td>Female</td>\n",
       "    </tr>\n",
       "    <tr>\n",
       "      <th>2</th>\n",
       "      <td>1</td>\n",
       "      <td>640</td>\n",
       "      <td>3.19</td>\n",
       "      <td>4</td>\n",
       "      <td>Male</td>\n",
       "    </tr>\n",
       "    <tr>\n",
       "      <th>3</th>\n",
       "      <td>1</td>\n",
       "      <td>760</td>\n",
       "      <td>3.00</td>\n",
       "      <td>2</td>\n",
       "      <td>Male</td>\n",
       "    </tr>\n",
       "    <tr>\n",
       "      <th>4</th>\n",
       "      <td>1</td>\n",
       "      <td>560</td>\n",
       "      <td>2.98</td>\n",
       "      <td>1</td>\n",
       "      <td>Female</td>\n",
       "    </tr>\n",
       "  </tbody>\n",
       "</table>\n",
       "</div>"
      ],
      "text/plain": [
       "   admit  gre   gpa  rank  gender\n",
       "0      1  660  3.67     3    Male\n",
       "1      1  800  4.00     1  Female\n",
       "2      1  640  3.19     4    Male\n",
       "3      1  760  3.00     2    Male\n",
       "4      1  560  2.98     1  Female"
      ]
     },
     "execution_count": 3,
     "metadata": {},
     "output_type": "execute_result"
    }
   ],
   "source": [
    "raw_df.head()"
   ]
  },
  {
   "cell_type": "code",
   "execution_count": 4,
   "id": "4aac34f9-bb7f-4b96-8239-6b6a479c051c",
   "metadata": {},
   "outputs": [
    {
     "name": "stdout",
     "output_type": "stream",
     "text": [
      "<class 'pandas.core.series.Series'>\n",
      "RangeIndex: 400 entries, 0 to 399\n",
      "Series name: admit\n",
      "Non-Null Count  Dtype   \n",
      "--------------  -----   \n",
      "400 non-null    category\n",
      "dtypes: category(1)\n",
      "memory usage: 656.0 bytes\n",
      "None\n"
     ]
    }
   ],
   "source": [
    "##--------------------------------------\n",
    "##Identify the class label or Y variable \n",
    "#making y variable as categorical\n",
    "##--------------------------------------\n",
    "Y=raw_df.admit.astype('category')\n",
    "print(Y.info())"
   ]
  },
  {
   "cell_type": "code",
   "execution_count": 5,
   "id": "6dfd0da3-9dec-444d-b230-b29e23877d02",
   "metadata": {},
   "outputs": [
    {
     "data": {
      "text/plain": [
       "0      1\n",
       "1      1\n",
       "2      1\n",
       "3      1\n",
       "4      1\n",
       "      ..\n",
       "395    0\n",
       "396    0\n",
       "397    0\n",
       "398    0\n",
       "399    0\n",
       "Name: admit, Length: 400, dtype: int64"
      ]
     },
     "execution_count": 5,
     "metadata": {},
     "output_type": "execute_result"
    }
   ],
   "source": [
    "raw_df.admit"
   ]
  },
  {
   "cell_type": "code",
   "execution_count": 15,
   "id": "20374349-74d9-4c55-b1f4-c501954d6cf5",
   "metadata": {},
   "outputs": [
    {
     "name": "stdout",
     "output_type": "stream",
     "text": [
      "['gre', 'gpa', 'rank', 'gender']\n"
     ]
    }
   ],
   "source": [
    "##------------------------------------------------------------\n",
    "##Select the predictor variables into a list called X_features\n",
    "##------------------------------------------------------------\n",
    "X_features = list(raw_df.columns)\n",
    "X_features.remove('admit')\n",
    "print(X_features)"
   ]
  },
  {
   "cell_type": "code",
   "execution_count": 16,
   "id": "f6e58514-671f-4af8-b6cc-af3a9b76e0f3",
   "metadata": {},
   "outputs": [],
   "source": [
    "##------------------------------------------------------------\n",
    "##Setup a dataframe with only X-variables\n",
    "##------------------------------------------------------------\n",
    "X=raw_df[X_features]"
   ]
  },
  {
   "cell_type": "code",
   "execution_count": 17,
   "id": "0f1ad46c-195b-4e7f-8b7e-d306d1e7985a",
   "metadata": {},
   "outputs": [
    {
     "data": {
      "text/html": [
       "<div>\n",
       "<style scoped>\n",
       "    .dataframe tbody tr th:only-of-type {\n",
       "        vertical-align: middle;\n",
       "    }\n",
       "\n",
       "    .dataframe tbody tr th {\n",
       "        vertical-align: top;\n",
       "    }\n",
       "\n",
       "    .dataframe thead th {\n",
       "        text-align: right;\n",
       "    }\n",
       "</style>\n",
       "<table border=\"1\" class=\"dataframe\">\n",
       "  <thead>\n",
       "    <tr style=\"text-align: right;\">\n",
       "      <th></th>\n",
       "      <th>gre</th>\n",
       "      <th>gpa</th>\n",
       "      <th>rank</th>\n",
       "      <th>gender</th>\n",
       "    </tr>\n",
       "  </thead>\n",
       "  <tbody>\n",
       "    <tr>\n",
       "      <th>0</th>\n",
       "      <td>660</td>\n",
       "      <td>3.67</td>\n",
       "      <td>3</td>\n",
       "      <td>Male</td>\n",
       "    </tr>\n",
       "    <tr>\n",
       "      <th>1</th>\n",
       "      <td>800</td>\n",
       "      <td>4.00</td>\n",
       "      <td>1</td>\n",
       "      <td>Female</td>\n",
       "    </tr>\n",
       "    <tr>\n",
       "      <th>2</th>\n",
       "      <td>640</td>\n",
       "      <td>3.19</td>\n",
       "      <td>4</td>\n",
       "      <td>Male</td>\n",
       "    </tr>\n",
       "    <tr>\n",
       "      <th>3</th>\n",
       "      <td>760</td>\n",
       "      <td>3.00</td>\n",
       "      <td>2</td>\n",
       "      <td>Male</td>\n",
       "    </tr>\n",
       "    <tr>\n",
       "      <th>4</th>\n",
       "      <td>560</td>\n",
       "      <td>2.98</td>\n",
       "      <td>1</td>\n",
       "      <td>Female</td>\n",
       "    </tr>\n",
       "    <tr>\n",
       "      <th>...</th>\n",
       "      <td>...</td>\n",
       "      <td>...</td>\n",
       "      <td>...</td>\n",
       "      <td>...</td>\n",
       "    </tr>\n",
       "    <tr>\n",
       "      <th>395</th>\n",
       "      <td>620</td>\n",
       "      <td>4.00</td>\n",
       "      <td>2</td>\n",
       "      <td>Female</td>\n",
       "    </tr>\n",
       "    <tr>\n",
       "      <th>396</th>\n",
       "      <td>560</td>\n",
       "      <td>3.04</td>\n",
       "      <td>3</td>\n",
       "      <td>Male</td>\n",
       "    </tr>\n",
       "    <tr>\n",
       "      <th>397</th>\n",
       "      <td>460</td>\n",
       "      <td>2.63</td>\n",
       "      <td>2</td>\n",
       "      <td>Female</td>\n",
       "    </tr>\n",
       "    <tr>\n",
       "      <th>398</th>\n",
       "      <td>700</td>\n",
       "      <td>3.65</td>\n",
       "      <td>2</td>\n",
       "      <td>Male</td>\n",
       "    </tr>\n",
       "    <tr>\n",
       "      <th>399</th>\n",
       "      <td>600</td>\n",
       "      <td>3.89</td>\n",
       "      <td>3</td>\n",
       "      <td>Male</td>\n",
       "    </tr>\n",
       "  </tbody>\n",
       "</table>\n",
       "<p>400 rows × 4 columns</p>\n",
       "</div>"
      ],
      "text/plain": [
       "     gre   gpa  rank  gender\n",
       "0    660  3.67     3    Male\n",
       "1    800  4.00     1  Female\n",
       "2    640  3.19     4    Male\n",
       "3    760  3.00     2    Male\n",
       "4    560  2.98     1  Female\n",
       "..   ...   ...   ...     ...\n",
       "395  620  4.00     2  Female\n",
       "396  560  3.04     3    Male\n",
       "397  460  2.63     2  Female\n",
       "398  700  3.65     2    Male\n",
       "399  600  3.89     3    Male\n",
       "\n",
       "[400 rows x 4 columns]"
      ]
     },
     "execution_count": 17,
     "metadata": {},
     "output_type": "execute_result"
    }
   ],
   "source": [
    "X"
   ]
  },
  {
   "cell_type": "code",
   "execution_count": 19,
   "id": "6757d04b-a81d-4e53-9fe9-ed0e2f8b992e",
   "metadata": {},
   "outputs": [
    {
     "name": "stdout",
     "output_type": "stream",
     "text": [
      "<class 'pandas.core.series.Series'>\n",
      "Index: 280 entries, 266 to 346\n",
      "Series name: admit\n",
      "Non-Null Count  Dtype   \n",
      "--------------  -----   \n",
      "280 non-null    category\n",
      "dtypes: category(1)\n",
      "memory usage: 2.6 KB\n",
      "None\n"
     ]
    }
   ],
   "source": [
    "##------------------------------------------\n",
    "##Split the data into Training and Test\n",
    "##test size=0.3 indicating 70% training and\n",
    "##30% test data\n",
    "##------------------------------------------\n",
    "from sklearn.model_selection import train_test_split\n",
    "X_train,X_test,y_train,y_test = train_test_split(X,\n",
    "Y,\n",
    "test_size=0.3,\n",
    "random_state=500)\n",
    "print(y_train.info())\n",
    "\n",
    "#########################################################################\n",
    "## All data processing should be done after split to prevent data leakage\n",
    "#########################################################################                                                 "
   ]
  },
  {
   "cell_type": "code",
   "execution_count": 20,
   "id": "7ca2c57b-f32f-4c10-9ab4-ad0d4273eab4",
   "metadata": {},
   "outputs": [
    {
     "data": {
      "text/html": [
       "<div>\n",
       "<style scoped>\n",
       "    .dataframe tbody tr th:only-of-type {\n",
       "        vertical-align: middle;\n",
       "    }\n",
       "\n",
       "    .dataframe tbody tr th {\n",
       "        vertical-align: top;\n",
       "    }\n",
       "\n",
       "    .dataframe thead th {\n",
       "        text-align: right;\n",
       "    }\n",
       "</style>\n",
       "<table border=\"1\" class=\"dataframe\">\n",
       "  <thead>\n",
       "    <tr style=\"text-align: right;\">\n",
       "      <th></th>\n",
       "      <th>gre</th>\n",
       "      <th>gpa</th>\n",
       "      <th>rank</th>\n",
       "      <th>gender</th>\n",
       "    </tr>\n",
       "  </thead>\n",
       "  <tbody>\n",
       "    <tr>\n",
       "      <th>266</th>\n",
       "      <td>380</td>\n",
       "      <td>3.59</td>\n",
       "      <td>4</td>\n",
       "      <td>Male</td>\n",
       "    </tr>\n",
       "    <tr>\n",
       "      <th>369</th>\n",
       "      <td>400</td>\n",
       "      <td>3.36</td>\n",
       "      <td>2</td>\n",
       "      <td>Female</td>\n",
       "    </tr>\n",
       "    <tr>\n",
       "      <th>378</th>\n",
       "      <td>480</td>\n",
       "      <td>2.78</td>\n",
       "      <td>3</td>\n",
       "      <td>Male</td>\n",
       "    </tr>\n",
       "    <tr>\n",
       "      <th>359</th>\n",
       "      <td>520</td>\n",
       "      <td>3.15</td>\n",
       "      <td>3</td>\n",
       "      <td>Male</td>\n",
       "    </tr>\n",
       "    <tr>\n",
       "      <th>42</th>\n",
       "      <td>700</td>\n",
       "      <td>3.52</td>\n",
       "      <td>4</td>\n",
       "      <td>Male</td>\n",
       "    </tr>\n",
       "    <tr>\n",
       "      <th>...</th>\n",
       "      <td>...</td>\n",
       "      <td>...</td>\n",
       "      <td>...</td>\n",
       "      <td>...</td>\n",
       "    </tr>\n",
       "    <tr>\n",
       "      <th>287</th>\n",
       "      <td>540</td>\n",
       "      <td>3.02</td>\n",
       "      <td>4</td>\n",
       "      <td>Female</td>\n",
       "    </tr>\n",
       "    <tr>\n",
       "      <th>206</th>\n",
       "      <td>720</td>\n",
       "      <td>3.84</td>\n",
       "      <td>3</td>\n",
       "      <td>Female</td>\n",
       "    </tr>\n",
       "    <tr>\n",
       "      <th>273</th>\n",
       "      <td>740</td>\n",
       "      <td>3.54</td>\n",
       "      <td>1</td>\n",
       "      <td>Female</td>\n",
       "    </tr>\n",
       "    <tr>\n",
       "      <th>321</th>\n",
       "      <td>660</td>\n",
       "      <td>3.45</td>\n",
       "      <td>4</td>\n",
       "      <td>Male</td>\n",
       "    </tr>\n",
       "    <tr>\n",
       "      <th>346</th>\n",
       "      <td>460</td>\n",
       "      <td>3.14</td>\n",
       "      <td>3</td>\n",
       "      <td>Female</td>\n",
       "    </tr>\n",
       "  </tbody>\n",
       "</table>\n",
       "<p>280 rows × 4 columns</p>\n",
       "</div>"
      ],
      "text/plain": [
       "     gre   gpa  rank  gender\n",
       "266  380  3.59     4    Male\n",
       "369  400  3.36     2  Female\n",
       "378  480  2.78     3    Male\n",
       "359  520  3.15     3    Male\n",
       "42   700  3.52     4    Male\n",
       "..   ...   ...   ...     ...\n",
       "287  540  3.02     4  Female\n",
       "206  720  3.84     3  Female\n",
       "273  740  3.54     1  Female\n",
       "321  660  3.45     4    Male\n",
       "346  460  3.14     3  Female\n",
       "\n",
       "[280 rows x 4 columns]"
      ]
     },
     "execution_count": 20,
     "metadata": {},
     "output_type": "execute_result"
    }
   ],
   "source": [
    "X_train"
   ]
  },
  {
   "cell_type": "code",
   "execution_count": 21,
   "id": "2aeb3373-7fcd-4eb6-93bf-e9de580d505e",
   "metadata": {},
   "outputs": [],
   "source": [
    "#####################\n",
    "## Pre-process X-vars\n",
    "#####################\n",
    "\n",
    "##---------------------------------------------------------------------\n",
    "## 1. Identify and dummy code (one-hot encoding) the categorical column\n",
    "##---------------------------------------------------------------------\n",
    "## list of categorical columns\n",
    "categorical_columns = ['gender']\n",
    "X_train_encoded = pd.get_dummies(X_train,columns=categorical_columns,drop_first=True,dtype=int)\n",
    "X_test_encoded = pd.get_dummies(X_test,columns=categorical_columns,drop_first=True,dtype=int)"
   ]
  },
  {
   "cell_type": "code",
   "execution_count": 22,
   "id": "a7a37aae-47f3-4bbf-a204-f8ee1b54a61c",
   "metadata": {},
   "outputs": [
    {
     "data": {
      "text/html": [
       "<div>\n",
       "<style scoped>\n",
       "    .dataframe tbody tr th:only-of-type {\n",
       "        vertical-align: middle;\n",
       "    }\n",
       "\n",
       "    .dataframe tbody tr th {\n",
       "        vertical-align: top;\n",
       "    }\n",
       "\n",
       "    .dataframe thead th {\n",
       "        text-align: right;\n",
       "    }\n",
       "</style>\n",
       "<table border=\"1\" class=\"dataframe\">\n",
       "  <thead>\n",
       "    <tr style=\"text-align: right;\">\n",
       "      <th></th>\n",
       "      <th>gre</th>\n",
       "      <th>gpa</th>\n",
       "      <th>rank</th>\n",
       "      <th>gender_Male</th>\n",
       "    </tr>\n",
       "  </thead>\n",
       "  <tbody>\n",
       "    <tr>\n",
       "      <th>288</th>\n",
       "      <td>480</td>\n",
       "      <td>3.43</td>\n",
       "      <td>2</td>\n",
       "      <td>0</td>\n",
       "    </tr>\n",
       "    <tr>\n",
       "      <th>108</th>\n",
       "      <td>540</td>\n",
       "      <td>3.78</td>\n",
       "      <td>2</td>\n",
       "      <td>1</td>\n",
       "    </tr>\n",
       "    <tr>\n",
       "      <th>217</th>\n",
       "      <td>640</td>\n",
       "      <td>2.79</td>\n",
       "      <td>2</td>\n",
       "      <td>0</td>\n",
       "    </tr>\n",
       "    <tr>\n",
       "      <th>70</th>\n",
       "      <td>520</td>\n",
       "      <td>3.81</td>\n",
       "      <td>1</td>\n",
       "      <td>1</td>\n",
       "    </tr>\n",
       "    <tr>\n",
       "      <th>330</th>\n",
       "      <td>520</td>\n",
       "      <td>3.25</td>\n",
       "      <td>3</td>\n",
       "      <td>0</td>\n",
       "    </tr>\n",
       "    <tr>\n",
       "      <th>...</th>\n",
       "      <td>...</td>\n",
       "      <td>...</td>\n",
       "      <td>...</td>\n",
       "      <td>...</td>\n",
       "    </tr>\n",
       "    <tr>\n",
       "      <th>59</th>\n",
       "      <td>780</td>\n",
       "      <td>3.80</td>\n",
       "      <td>3</td>\n",
       "      <td>1</td>\n",
       "    </tr>\n",
       "    <tr>\n",
       "      <th>79</th>\n",
       "      <td>520</td>\n",
       "      <td>3.90</td>\n",
       "      <td>3</td>\n",
       "      <td>1</td>\n",
       "    </tr>\n",
       "    <tr>\n",
       "      <th>293</th>\n",
       "      <td>620</td>\n",
       "      <td>3.05</td>\n",
       "      <td>2</td>\n",
       "      <td>1</td>\n",
       "    </tr>\n",
       "    <tr>\n",
       "      <th>249</th>\n",
       "      <td>540</td>\n",
       "      <td>2.81</td>\n",
       "      <td>3</td>\n",
       "      <td>0</td>\n",
       "    </tr>\n",
       "    <tr>\n",
       "      <th>107</th>\n",
       "      <td>580</td>\n",
       "      <td>3.12</td>\n",
       "      <td>3</td>\n",
       "      <td>1</td>\n",
       "    </tr>\n",
       "  </tbody>\n",
       "</table>\n",
       "<p>120 rows × 4 columns</p>\n",
       "</div>"
      ],
      "text/plain": [
       "     gre   gpa  rank  gender_Male\n",
       "288  480  3.43     2            0\n",
       "108  540  3.78     2            1\n",
       "217  640  2.79     2            0\n",
       "70   520  3.81     1            1\n",
       "330  520  3.25     3            0\n",
       "..   ...   ...   ...          ...\n",
       "59   780  3.80     3            1\n",
       "79   520  3.90     3            1\n",
       "293  620  3.05     2            1\n",
       "249  540  2.81     3            0\n",
       "107  580  3.12     3            1\n",
       "\n",
       "[120 rows x 4 columns]"
      ]
     },
     "execution_count": 22,
     "metadata": {},
     "output_type": "execute_result"
    }
   ],
   "source": [
    "X_test_encoded"
   ]
  },
  {
   "cell_type": "code",
   "execution_count": 23,
   "id": "d75b158b-2923-4560-94d1-8b226931d418",
   "metadata": {},
   "outputs": [
    {
     "name": "stdout",
     "output_type": "stream",
     "text": [
      "<class 'pandas.core.frame.DataFrame'>\n",
      "Index: 120 entries, 288 to 107\n",
      "Data columns (total 4 columns):\n",
      " #   Column       Non-Null Count  Dtype  \n",
      "---  ------       --------------  -----  \n",
      " 0   gre          120 non-null    int64  \n",
      " 1   gpa          120 non-null    float64\n",
      " 2   rank         120 non-null    int64  \n",
      " 3   gender_Male  120 non-null    int32  \n",
      "dtypes: float64(1), int32(1), int64(2)\n",
      "memory usage: 4.2 KB\n"
     ]
    }
   ],
   "source": [
    "X_test_encoded.info()"
   ]
  },
  {
   "cell_type": "code",
   "execution_count": 24,
   "id": "075c62e3-aeb2-4b87-ae21-6f8ec1dd206f",
   "metadata": {},
   "outputs": [
    {
     "data": {
      "text/html": [
       "<div>\n",
       "<style scoped>\n",
       "    .dataframe tbody tr th:only-of-type {\n",
       "        vertical-align: middle;\n",
       "    }\n",
       "\n",
       "    .dataframe tbody tr th {\n",
       "        vertical-align: top;\n",
       "    }\n",
       "\n",
       "    .dataframe thead th {\n",
       "        text-align: right;\n",
       "    }\n",
       "</style>\n",
       "<table border=\"1\" class=\"dataframe\">\n",
       "  <thead>\n",
       "    <tr style=\"text-align: right;\">\n",
       "      <th></th>\n",
       "      <th>gre</th>\n",
       "      <th>gpa</th>\n",
       "      <th>rank</th>\n",
       "      <th>gender_Male</th>\n",
       "    </tr>\n",
       "  </thead>\n",
       "  <tbody>\n",
       "    <tr>\n",
       "      <th>266</th>\n",
       "      <td>380</td>\n",
       "      <td>3.59</td>\n",
       "      <td>4</td>\n",
       "      <td>1</td>\n",
       "    </tr>\n",
       "    <tr>\n",
       "      <th>369</th>\n",
       "      <td>400</td>\n",
       "      <td>3.36</td>\n",
       "      <td>2</td>\n",
       "      <td>0</td>\n",
       "    </tr>\n",
       "    <tr>\n",
       "      <th>378</th>\n",
       "      <td>480</td>\n",
       "      <td>2.78</td>\n",
       "      <td>3</td>\n",
       "      <td>1</td>\n",
       "    </tr>\n",
       "    <tr>\n",
       "      <th>359</th>\n",
       "      <td>520</td>\n",
       "      <td>3.15</td>\n",
       "      <td>3</td>\n",
       "      <td>1</td>\n",
       "    </tr>\n",
       "    <tr>\n",
       "      <th>42</th>\n",
       "      <td>700</td>\n",
       "      <td>3.52</td>\n",
       "      <td>4</td>\n",
       "      <td>1</td>\n",
       "    </tr>\n",
       "    <tr>\n",
       "      <th>...</th>\n",
       "      <td>...</td>\n",
       "      <td>...</td>\n",
       "      <td>...</td>\n",
       "      <td>...</td>\n",
       "    </tr>\n",
       "    <tr>\n",
       "      <th>287</th>\n",
       "      <td>540</td>\n",
       "      <td>3.02</td>\n",
       "      <td>4</td>\n",
       "      <td>0</td>\n",
       "    </tr>\n",
       "    <tr>\n",
       "      <th>206</th>\n",
       "      <td>720</td>\n",
       "      <td>3.84</td>\n",
       "      <td>3</td>\n",
       "      <td>0</td>\n",
       "    </tr>\n",
       "    <tr>\n",
       "      <th>273</th>\n",
       "      <td>740</td>\n",
       "      <td>3.54</td>\n",
       "      <td>1</td>\n",
       "      <td>0</td>\n",
       "    </tr>\n",
       "    <tr>\n",
       "      <th>321</th>\n",
       "      <td>660</td>\n",
       "      <td>3.45</td>\n",
       "      <td>4</td>\n",
       "      <td>1</td>\n",
       "    </tr>\n",
       "    <tr>\n",
       "      <th>346</th>\n",
       "      <td>460</td>\n",
       "      <td>3.14</td>\n",
       "      <td>3</td>\n",
       "      <td>0</td>\n",
       "    </tr>\n",
       "  </tbody>\n",
       "</table>\n",
       "<p>280 rows × 4 columns</p>\n",
       "</div>"
      ],
      "text/plain": [
       "     gre   gpa  rank  gender_Male\n",
       "266  380  3.59     4            1\n",
       "369  400  3.36     2            0\n",
       "378  480  2.78     3            1\n",
       "359  520  3.15     3            1\n",
       "42   700  3.52     4            1\n",
       "..   ...   ...   ...          ...\n",
       "287  540  3.02     4            0\n",
       "206  720  3.84     3            0\n",
       "273  740  3.54     1            0\n",
       "321  660  3.45     4            1\n",
       "346  460  3.14     3            0\n",
       "\n",
       "[280 rows x 4 columns]"
      ]
     },
     "execution_count": 24,
     "metadata": {},
     "output_type": "execute_result"
    }
   ],
   "source": [
    "X_train_encoded"
   ]
  },
  {
   "cell_type": "code",
   "execution_count": 25,
   "id": "1d7550c9-5b65-48c7-8d1e-44111b810c32",
   "metadata": {},
   "outputs": [
    {
     "name": "stdout",
     "output_type": "stream",
     "text": [
      "<class 'pandas.core.frame.DataFrame'>\n",
      "Index: 280 entries, 266 to 346\n",
      "Data columns (total 4 columns):\n",
      " #   Column       Non-Null Count  Dtype  \n",
      "---  ------       --------------  -----  \n",
      " 0   gre          280 non-null    int64  \n",
      " 1   gpa          280 non-null    float64\n",
      " 2   rank         280 non-null    int64  \n",
      " 3   gender_Male  280 non-null    int32  \n",
      "dtypes: float64(1), int32(1), int64(2)\n",
      "memory usage: 9.8 KB\n"
     ]
    }
   ],
   "source": [
    "X_train_encoded.info()"
   ]
  },
  {
   "cell_type": "code",
   "execution_count": 26,
   "id": "e7a1523d-a03c-4706-9372-079f41ff5b2c",
   "metadata": {},
   "outputs": [
    {
     "data": {
      "image/png": "[encoded data removed]",
      "text/plain": [
       "<Figure size 800x600 with 2 Axes>"
      ]
     },
     "metadata": {},
     "output_type": "display_data"
    }
   ],
   "source": [
    "##-------------------------------------------------\n",
    "## 2. Identify and remove highly correlated columns\n",
    "##-------------------------------------------------\n",
    "import matplotlib.pyplot as plt\n",
    "import seaborn as sns\n",
    "corr_matrix=X_train_encoded.corr(numeric_only=True)\n",
    "plt.figure(figsize=(8,6))\n",
    "sns.heatmap(corr_matrix,annot=True,cmap='coolwarm',linewidth=0.5)\n",
    "plt.title('Correlation Heatmap')\n",
    "plt.show()"
   ]
  },
  {
   "cell_type": "code",
   "execution_count": 27,
   "id": "1f1cc953-99a7-4d1f-b3fd-c70a1f55c99f",
   "metadata": {},
   "outputs": [
    {
     "data": {
      "text/html": [
       "<div>\n",
       "<style scoped>\n",
       "    .dataframe tbody tr th:only-of-type {\n",
       "        vertical-align: middle;\n",
       "    }\n",
       "\n",
       "    .dataframe tbody tr th {\n",
       "        vertical-align: top;\n",
       "    }\n",
       "\n",
       "    .dataframe thead th {\n",
       "        text-align: right;\n",
       "    }\n",
       "</style>\n",
       "<table border=\"1\" class=\"dataframe\">\n",
       "  <thead>\n",
       "    <tr style=\"text-align: right;\">\n",
       "      <th></th>\n",
       "      <th>gre</th>\n",
       "      <th>gpa</th>\n",
       "      <th>rank</th>\n",
       "      <th>gender_Male</th>\n",
       "    </tr>\n",
       "  </thead>\n",
       "  <tbody>\n",
       "    <tr>\n",
       "      <th>gre</th>\n",
       "      <td>1.000000</td>\n",
       "      <td>0.374043</td>\n",
       "      <td>-0.121420</td>\n",
       "      <td>0.122734</td>\n",
       "    </tr>\n",
       "    <tr>\n",
       "      <th>gpa</th>\n",
       "      <td>0.374043</td>\n",
       "      <td>1.000000</td>\n",
       "      <td>-0.063109</td>\n",
       "      <td>0.070004</td>\n",
       "    </tr>\n",
       "    <tr>\n",
       "      <th>rank</th>\n",
       "      <td>-0.121420</td>\n",
       "      <td>-0.063109</td>\n",
       "      <td>1.000000</td>\n",
       "      <td>0.048427</td>\n",
       "    </tr>\n",
       "    <tr>\n",
       "      <th>gender_Male</th>\n",
       "      <td>0.122734</td>\n",
       "      <td>0.070004</td>\n",
       "      <td>0.048427</td>\n",
       "      <td>1.000000</td>\n",
       "    </tr>\n",
       "  </tbody>\n",
       "</table>\n",
       "</div>"
      ],
      "text/plain": [
       "                  gre       gpa      rank  gender_Male\n",
       "gre          1.000000  0.374043 -0.121420     0.122734\n",
       "gpa          0.374043  1.000000 -0.063109     0.070004\n",
       "rank        -0.121420 -0.063109  1.000000     0.048427\n",
       "gender_Male  0.122734  0.070004  0.048427     1.000000"
      ]
     },
     "execution_count": 27,
     "metadata": {},
     "output_type": "execute_result"
    }
   ],
   "source": [
    "corr_matrix"
   ]
  },
  {
   "cell_type": "code",
   "execution_count": 28,
   "id": "304192b1-47b9-4347-8f57-029186a1b092",
   "metadata": {},
   "outputs": [
    {
     "name": "stdout",
     "output_type": "stream",
     "text": [
      "Optimization terminated successfully.\n",
      "         Current function value: 0.559919\n",
      "         Iterations 6\n",
      "                         Results: Logit\n",
      "=================================================================\n",
      "Model:              Logit            Method:           MLE       \n",
      "Dependent Variable: admit            Pseudo R-squared: 0.112     \n",
      "Date:               2024-09-24 19:45 AIC:              323.5549  \n",
      "No. Observations:   280              BIC:              341.7288  \n",
      "Df Model:           4                Log-Likelihood:   -156.78   \n",
      "Df Residuals:       275              LL-Null:          -176.56   \n",
      "Converged:          1.0000           LLR p-value:      5.3105e-08\n",
      "No. Iterations:     6.0000           Scale:            1.0000    \n",
      "------------------------------------------------------------------\n",
      "               Coef.   Std.Err.     z     P>|z|    [0.025   0.975]\n",
      "------------------------------------------------------------------\n",
      "const         -3.6549    1.4347  -2.5474  0.0109  -6.4669  -0.8429\n",
      "gre            0.0028    0.0013   2.1567  0.0310   0.0003   0.0054\n",
      "gpa            0.6007    0.4067   1.4770  0.1397  -0.1964   1.3978\n",
      "rank          -0.5738    0.1543  -3.7187  0.0002  -0.8762  -0.2714\n",
      "gender_Male    0.9291    0.2879   3.2272  0.0013   0.3648   1.4934\n",
      "=================================================================\n",
      "\n"
     ]
    }
   ],
   "source": [
    "##----------------------\n",
    "## Build the logit model\n",
    "##----------------------\n",
    "import statsmodels.api as sm\n",
    "## Constant is to be added when using the sm library\n",
    "X_train_encoded=sm.add_constant(X_train_encoded)\n",
    "## Call logistic regression with X and Y variables of the training data\n",
    "## Model is built with the training data\n",
    "logit=sm.Logit(y_train,X_train_encoded)\n",
    "## Fit the model and display results\n",
    "logit_model = logit.fit()\n",
    "print(logit_model.summary2())"
   ]
  },
  {
   "cell_type": "code",
   "execution_count": 29,
   "id": "97aeb692-07c2-49ab-bfa3-bff86b48570b",
   "metadata": {},
   "outputs": [],
   "source": [
    "#Only significant X-vars are used to build the predictive model\n",
    "#All variables are significant-so we use all the x-VARS"
   ]
  },
  {
   "cell_type": "code",
   "execution_count": 30,
   "id": "4d9e4abd-68d4-460f-b5e9-8478009a10d5",
   "metadata": {},
   "outputs": [],
   "source": [
    "##-----------------------------\n",
    "## Apply model on test data\n",
    "##-----------------------------\n",
    "X_test_encoded=sm.add_constant(X_test_encoded)\n",
    "y_prob=logit_model.predict(X_test_encoded)\n",
    "#y_prob holds the probability values for each record in the test data"
   ]
  },
  {
   "cell_type": "code",
   "execution_count": 31,
   "id": "4d8161dc-aee8-41ea-9338-472a0fce023d",
   "metadata": {},
   "outputs": [
    {
     "data": {
      "text/plain": [
       "288    0.198445\n",
       "108    0.477907\n",
       "217    0.208868\n",
       "70     0.610000\n",
       "330    0.122841\n",
       "         ...   \n",
       "59     0.505709\n",
       "79     0.343836\n",
       "293    0.424929\n",
       "249    0.102109\n",
       "107    0.279587\n",
       "Length: 120, dtype: float64"
      ]
     },
     "execution_count": 31,
     "metadata": {},
     "output_type": "execute_result"
    }
   ],
   "source": [
    "y_prob"
   ]
  },
  {
   "cell_type": "code",
   "execution_count": 32,
   "id": "d7d9b626-197d-4686-88dd-637e419ff4a9",
   "metadata": {},
   "outputs": [
    {
     "name": "stdout",
     "output_type": "stream",
     "text": [
      "    actual_Y  predicted_prob\n",
      "288        0        0.198445\n",
      "108        1        0.477907\n",
      "217        0        0.208868\n",
      "70         1        0.610000\n",
      "330        0        0.122841\n"
     ]
    }
   ],
   "source": [
    "#Create a dataframe to store the test data's Y value and the predicted probability value\n",
    "#The original admit column is stored as \"actual_y\"\n",
    "#The predicted prob is stored in y_prob\n",
    "y_pred_df = pd.DataFrame({ \"actual_Y\": y_test, \"predicted_prob\": y_prob})\n",
    "\n",
    "print(y_pred_df.head())"
   ]
  },
  {
   "cell_type": "code",
   "execution_count": 33,
   "id": "dec126b7-2e68-492b-9dea-71618720cf0c",
   "metadata": {},
   "outputs": [
    {
     "name": "stdout",
     "output_type": "stream",
     "text": [
      "    actual_Y  predicted_prob  predicted_Y\n",
      "288        0        0.198445            0\n",
      "108        1        0.477907            0\n",
      "217        0        0.208868            0\n",
      "70         1        0.610000            1\n",
      "330        0        0.122841            0\n"
     ]
    }
   ],
   "source": [
    "##-----------------------------\n",
    "## Based on default cut-off -0.5\n",
    "##-----------------------------\n",
    "y_pred_df['predicted_Y'] = y_pred_df.predicted_prob.map(lambda x: 1 if x >= 0.5 else 0)\n",
    "print(y_pred_df.head())"
   ]
  },
  {
   "cell_type": "code",
   "execution_count": 34,
   "id": "fb68f439-1771-4631-b79c-d6ad99bc8935",
   "metadata": {},
   "outputs": [
    {
     "name": "stdout",
     "output_type": "stream",
     "text": [
      "[[79  5]\n",
      " [22 14]]\n"
     ]
    }
   ],
   "source": [
    "from sklearn.metrics import confusion_matrix\n",
    "# Generating the confusion matrix using the DataFrame columns\n",
    "cm = confusion_matrix(y_pred_df['actual_Y'], y_pred_df['predicted_Y'])\n",
    "print(cm)"
   ]
  },
  {
   "cell_type": "code",
   "execution_count": 35,
   "id": "d817b620-f3d1-4a9a-a3c7-7e259c466f7f",
   "metadata": {},
   "outputs": [
    {
     "data": {
      "image/png": "[encoded data removed]",
      "text/plain": [
       "<Figure size 300x300 with 1 Axes>"
      ]
     },
     "metadata": {},
     "output_type": "display_data"
    }
   ],
   "source": [
    "# Create a heatmap for the confusion matrix\n",
    "plt.figure(figsize=(3,3))\n",
    "sns.heatmap(cm, annot=True, fmt='d', cmap='Blues', cbar=False,\n",
    "            xticklabels=['Predicted 0', 'Predicted 1'],\n",
    "            yticklabels=['Actual 0', 'Actual 1'])\n",
    "plt.title(\"Confusion Matrix\")\n",
    "plt.ylabel('Actual')\n",
    "plt.xlabel('Predicted')\n",
    "plt.show()"
   ]
  },
  {
   "cell_type": "code",
   "execution_count": 36,
   "id": "8a9a200b-cedc-4ffd-9cdf-944b7924935a",
   "metadata": {},
   "outputs": [
    {
     "name": "stdout",
     "output_type": "stream",
     "text": [
      "Sensitivity (Recall): 0.39\n",
      "Accuracy: 0.78\n"
     ]
    }
   ],
   "source": [
    "# Calculate Sensitivity (Recall), Specificity, and Accuracy using scikit-learn functions\n",
    "from sklearn.metrics import accuracy_score, recall_score, precision_score\n",
    "sensitivity = recall_score(y_pred_df['actual_Y'], y_pred_df['predicted_Y'])\n",
    "accuracy = accuracy_score(y_pred_df['actual_Y'], y_pred_df['predicted_Y'])\n",
    "\n",
    "# Print metrics\n",
    "print(f\"Sensitivity (Recall): {sensitivity:.2f}\")\n",
    "print(f\"Accuracy: {accuracy:.2f}\")"
   ]
  },
  {
   "cell_type": "code",
   "execution_count": 37,
   "id": "4b79e578-7e08-4927-ae37-9f27ae499008",
   "metadata": {},
   "outputs": [
    {
     "name": "stdout",
     "output_type": "stream",
     "text": [
      "\n",
      "Classification Report:\n",
      "              precision    recall  f1-score   support\n",
      "\n",
      "           0       0.78      0.94      0.85        84\n",
      "           1       0.74      0.39      0.51        36\n",
      "\n",
      "    accuracy                           0.78       120\n",
      "   macro avg       0.76      0.66      0.68       120\n",
      "weighted avg       0.77      0.78      0.75       120\n",
      "\n"
     ]
    }
   ],
   "source": [
    "from sklearn.metrics import confusion_matrix, classification_report\n",
    "print(\"\\nClassification Report:\")\n",
    "print(classification_report(y_pred_df['actual_Y'], y_pred_df['predicted_Y']))"
   ]
  },
  {
   "cell_type": "code",
   "execution_count": 43,
   "id": "d79a02f5-f9cd-4ddf-8552-291369d007b1",
   "metadata": {},
   "outputs": [],
   "source": [
    "#Implications/Recommendations\n",
    "#78% Accuracy\n",
    "#39% sensitivity how well True positive is predicted out of all positive case\n",
    "#94% specificity how well True negative is predicted out of all negative case\n",
    "\n",
    "#39% credit rating => Cannot accept the model at this threshold of 0.5"
   ]
  },
  {
   "cell_type": "code",
   "execution_count": 39,
   "id": "0fb67a0b-9e95-41ca-8c8d-9799bdf17029",
   "metadata": {},
   "outputs": [
    {
     "data": {
      "image/png": "[encoded data removed]",
      "text/plain": [
       "<Figure size 800x600 with 1 Axes>"
      ]
     },
     "metadata": {},
     "output_type": "display_data"
    }
   ],
   "source": [
    "# Plot ROC curve\n",
    "import numpy as np\n",
    "import matplotlib.pyplot as plt\n",
    "from sklearn.metrics import roc_curve,auc\n",
    "# Compute ROC curve\n",
    "fpr, tpr, thresholds = roc_curve(y_pred_df['actual_Y'], y_pred_df['predicted_prob'])\n",
    "roc_auc = auc(fpr, tpr)\n",
    "# Plotting the ROC curve\n",
    "plt.figure(figsize=(8, 6))\n",
    "plt.plot(fpr, tpr, color='blue', lw=2, label='ROC curve (area = {:.2f})'.format(roc_auc))\n",
    "plt.plot([0, 1], [0, 1], color='red', linestyle='--')  # Diagonal line\n",
    "plt.xlim([0.0, 1.0])\n",
    "plt.ylim([0.0, 1.05])\n",
    "plt.xlabel('False Positive Rate')\n",
    "plt.ylabel('True Positive Rate')\n",
    "plt.title('Receiver Operating Characteristic (ROC) Curve')\n",
    "plt.legend(loc='lower right')\n",
    "plt.show()"
   ]
  },
  {
   "cell_type": "code",
   "execution_count": 41,
   "id": "211ef537-723e-467d-be5b-e6b42e0153af",
   "metadata": {},
   "outputs": [],
   "source": [
    "import numpy as np\n",
    "import pandas as pd\n",
    "from sklearn.metrics import confusion_matrix\n",
    "\n",
    "def compute_sensitivity_table(y_actual, y_prob, specific_thresholds=np.arange(0.1, 0.5, 0.01)):\n",
    "    \"\"\"\n",
    "    This function computes and prints a table of sensitivity (TPR) values for specified thresholds (0.1 to 0.5).\n",
    "    \n",
    "    Parameters:\n",
    "    y_actual: array-like\n",
    "        The actual binary labels.\n",
    "    y_prob: array-like\n",
    "        The predicted probabilities for the positive class.\n",
    "    specific_thresholds: array-like, optional\n",
    "        The specific thresholds for which to compute sensitivity. Default is np.arange(0.1, 0.5, 0.01).\n",
    "    \"\"\"\n",
    "    \n",
    "    results = []  # List to store results for the table\n",
    "\n",
    "    for threshold in specific_thresholds:\n",
    "        # Convert predicted probabilities to binary predictions based on the threshold\n",
    "        y_pred = (y_prob >= threshold).astype(int)\n",
    "        \n",
    "        # Get the confusion matrix\n",
    "        tn, fp, fn, tp = confusion_matrix(y_actual, y_pred).ravel()\n",
    "        \n",
    "        # Calculate TPR (Sensitivity)\n",
    "        tpr = tp / (tp + fn) if (tp + fn) > 0 else 0  # Avoid division by zero\n",
    "        \n",
    "        # Append results\n",
    "        results.append({'Threshold': threshold, 'Sensitivity (TPR)': tpr})\n",
    "\n",
    "    # Create a DataFrame for better formatting\n",
    "    sensitivity_table = pd.DataFrame(results)\n",
    "    \n",
    "    # Print the sensitivity table\n",
    "    print(sensitivity_table)"
   ]
  },
  {
   "cell_type": "code",
   "execution_count": 42,
   "id": "f2906555-5015-421e-a43e-e08dbfef3b63",
   "metadata": {},
   "outputs": [
    {
     "name": "stdout",
     "output_type": "stream",
     "text": [
      "    Threshold  Sensitivity (TPR)\n",
      "0        0.10           1.000000\n",
      "1        0.11           1.000000\n",
      "2        0.12           1.000000\n",
      "3        0.13           0.972222\n",
      "4        0.14           0.972222\n",
      "5        0.15           0.972222\n",
      "6        0.16           0.944444\n",
      "7        0.17           0.944444\n",
      "8        0.18           0.944444\n",
      "9        0.19           0.916667\n",
      "10       0.20           0.888889\n",
      "11       0.21           0.833333\n",
      "12       0.22           0.805556\n",
      "13       0.23           0.805556\n",
      "14       0.24           0.805556\n",
      "15       0.25           0.777778\n",
      "16       0.26           0.777778\n",
      "17       0.27           0.777778\n",
      "18       0.28           0.694444\n",
      "19       0.29           0.666667\n",
      "20       0.30           0.638889\n",
      "21       0.31           0.611111\n",
      "22       0.32           0.611111\n",
      "23       0.33           0.583333\n",
      "24       0.34           0.583333\n",
      "25       0.35           0.555556\n",
      "26       0.36           0.555556\n",
      "27       0.37           0.555556\n",
      "28       0.38           0.555556\n",
      "29       0.39           0.555556\n",
      "30       0.40           0.527778\n",
      "31       0.41           0.500000\n",
      "32       0.42           0.472222\n",
      "33       0.43           0.472222\n",
      "34       0.44           0.444444\n",
      "35       0.45           0.444444\n",
      "36       0.46           0.444444\n",
      "37       0.47           0.444444\n",
      "38       0.48           0.388889\n",
      "39       0.49           0.388889\n"
     ]
    }
   ],
   "source": [
    "compute_sensitivity_table(y_pred_df['actual_Y'], y_pred_df['predicted_prob'])"
   ]
  },
  {
   "cell_type": "code",
   "execution_count": null,
   "id": "747e7d27-04bd-4437-81e3-2f08d454e9a3",
   "metadata": {},
   "outputs": [],
   "source": []
  }
 ],
 "metadata": {
  "kernelspec": {
   "display_name": "Python 3 (ipykernel)",
   "language": "python",
   "name": "python3"
  },
  "language_info": {
   "codemirror_mode": {
    "name": "ipython",
    "version": 3
   },
   "file_extension": ".py",
   "mimetype": "text/x-python",
   "name": "python",
   "nbconvert_exporter": "python",
   "pygments_lexer": "ipython3",
   "version": "3.11.7"
  }
 },
 "nbformat": 4,
 "nbformat_minor": 5
}
