{
 "cells": [
  {
   "cell_type": "code",
   "execution_count": 1,
   "id": "d8f8fa06",
   "metadata": {},
   "outputs": [],
   "source": [
    "import pandas as pd\n",
    "raw_df=pd.read_excel('attrition.xlsx')"
   ]
  },
  {
   "cell_type": "code",
   "execution_count": 3,
   "id": "a20cb427",
   "metadata": {},
   "outputs": [
    {
     "name": "stdout",
     "output_type": "stream",
     "text": [
      "<class 'pandas.core.frame.DataFrame'>\n",
      "RangeIndex: 1470 entries, 0 to 1469\n",
      "Data columns (total 11 columns):\n",
      " #   Column              Non-Null Count  Dtype \n",
      "---  ------              --------------  ----- \n",
      " 0   Attrition           1470 non-null   int64 \n",
      " 1   EmpID               1470 non-null   int64 \n",
      " 2   Department          1470 non-null   object\n",
      " 3   DistanceFromHome    1470 non-null   int64 \n",
      " 4   Gender              1470 non-null   object\n",
      " 5   HourlyRate          1470 non-null   int64 \n",
      " 6   MonthlyIncome       1470 non-null   int64 \n",
      " 7   NumCompaniesWorked  1470 non-null   int64 \n",
      " 8   OverTime            1470 non-null   object\n",
      " 9   PercentSalaryHike   1470 non-null   int64 \n",
      " 10  JobSatisfaction     1470 non-null   int64 \n",
      "dtypes: int64(8), object(3)\n",
      "memory usage: 126.5+ KB\n"
     ]
    }
   ],
   "source": [
    "raw_df.info()\n",
    "##Objective Joined 0 we have to identify"
   ]
  },
  {
   "cell_type": "code",
   "execution_count": 9,
   "id": "7c2cc9ca",
   "metadata": {},
   "outputs": [
    {
     "data": {
      "text/html": [
       "<div>\n",
       "<style scoped>\n",
       "    .dataframe tbody tr th:only-of-type {\n",
       "        vertical-align: middle;\n",
       "    }\n",
       "\n",
       "    .dataframe tbody tr th {\n",
       "        vertical-align: top;\n",
       "    }\n",
       "\n",
       "    .dataframe thead th {\n",
       "        text-align: right;\n",
       "    }\n",
       "</style>\n",
       "<table border=\"1\" class=\"dataframe\">\n",
       "  <thead>\n",
       "    <tr style=\"text-align: right;\">\n",
       "      <th></th>\n",
       "      <th>Attrition</th>\n",
       "      <th>EmpID</th>\n",
       "      <th>Department</th>\n",
       "      <th>DistanceFromHome</th>\n",
       "      <th>Gender</th>\n",
       "      <th>HourlyRate</th>\n",
       "      <th>MonthlyIncome</th>\n",
       "      <th>NumCompaniesWorked</th>\n",
       "      <th>OverTime</th>\n",
       "      <th>PercentSalaryHike</th>\n",
       "      <th>JobSatisfaction</th>\n",
       "    </tr>\n",
       "  </thead>\n",
       "  <tbody>\n",
       "    <tr>\n",
       "      <th>0</th>\n",
       "      <td>0</td>\n",
       "      <td>1001</td>\n",
       "      <td>Research &amp; Development</td>\n",
       "      <td>2</td>\n",
       "      <td>Male</td>\n",
       "      <td>92</td>\n",
       "      <td>2090</td>\n",
       "      <td>6</td>\n",
       "      <td>Yes</td>\n",
       "      <td>15</td>\n",
       "      <td>3</td>\n",
       "    </tr>\n",
       "    <tr>\n",
       "      <th>1</th>\n",
       "      <td>0</td>\n",
       "      <td>1002</td>\n",
       "      <td>Research &amp; Development</td>\n",
       "      <td>2</td>\n",
       "      <td>Male</td>\n",
       "      <td>40</td>\n",
       "      <td>3468</td>\n",
       "      <td>9</td>\n",
       "      <td>No</td>\n",
       "      <td>12</td>\n",
       "      <td>2</td>\n",
       "    </tr>\n",
       "    <tr>\n",
       "      <th>2</th>\n",
       "      <td>0</td>\n",
       "      <td>1003</td>\n",
       "      <td>Research &amp; Development</td>\n",
       "      <td>3</td>\n",
       "      <td>Female</td>\n",
       "      <td>81</td>\n",
       "      <td>2670</td>\n",
       "      <td>4</td>\n",
       "      <td>Yes</td>\n",
       "      <td>20</td>\n",
       "      <td>1</td>\n",
       "    </tr>\n",
       "    <tr>\n",
       "      <th>3</th>\n",
       "      <td>0</td>\n",
       "      <td>1004</td>\n",
       "      <td>Research &amp; Development</td>\n",
       "      <td>24</td>\n",
       "      <td>Male</td>\n",
       "      <td>67</td>\n",
       "      <td>2693</td>\n",
       "      <td>1</td>\n",
       "      <td>No</td>\n",
       "      <td>22</td>\n",
       "      <td>3</td>\n",
       "    </tr>\n",
       "    <tr>\n",
       "      <th>4</th>\n",
       "      <td>0</td>\n",
       "      <td>1005</td>\n",
       "      <td>Research &amp; Development</td>\n",
       "      <td>27</td>\n",
       "      <td>Male</td>\n",
       "      <td>94</td>\n",
       "      <td>5237</td>\n",
       "      <td>6</td>\n",
       "      <td>No</td>\n",
       "      <td>13</td>\n",
       "      <td>3</td>\n",
       "    </tr>\n",
       "  </tbody>\n",
       "</table>\n",
       "</div>"
      ],
      "text/plain": [
       "   Attrition  EmpID              Department  DistanceFromHome  Gender  \\\n",
       "0          0   1001  Research & Development                 2    Male   \n",
       "1          0   1002  Research & Development                 2    Male   \n",
       "2          0   1003  Research & Development                 3  Female   \n",
       "3          0   1004  Research & Development                24    Male   \n",
       "4          0   1005  Research & Development                27    Male   \n",
       "\n",
       "   HourlyRate  MonthlyIncome  NumCompaniesWorked OverTime  PercentSalaryHike  \\\n",
       "0          92           2090                   6      Yes                 15   \n",
       "1          40           3468                   9       No                 12   \n",
       "2          81           2670                   4      Yes                 20   \n",
       "3          67           2693                   1       No                 22   \n",
       "4          94           5237                   6       No                 13   \n",
       "\n",
       "   JobSatisfaction  \n",
       "0                3  \n",
       "1                2  \n",
       "2                1  \n",
       "3                3  \n",
       "4                3  "
      ]
     },
     "execution_count": 9,
     "metadata": {},
     "output_type": "execute_result"
    }
   ],
   "source": [
    "raw_df.head()"
   ]
  },
  {
   "cell_type": "code",
   "execution_count": 7,
   "id": "ab190c63",
   "metadata": {},
   "outputs": [
    {
     "data": {
      "text/html": [
       "<div>\n",
       "<style scoped>\n",
       "    .dataframe tbody tr th:only-of-type {\n",
       "        vertical-align: middle;\n",
       "    }\n",
       "\n",
       "    .dataframe tbody tr th {\n",
       "        vertical-align: top;\n",
       "    }\n",
       "\n",
       "    .dataframe thead th {\n",
       "        text-align: right;\n",
       "    }\n",
       "</style>\n",
       "<table border=\"1\" class=\"dataframe\">\n",
       "  <thead>\n",
       "    <tr style=\"text-align: right;\">\n",
       "      <th></th>\n",
       "      <th>Attrition</th>\n",
       "      <th>EmpID</th>\n",
       "      <th>Department</th>\n",
       "      <th>DistanceFromHome</th>\n",
       "      <th>Gender</th>\n",
       "      <th>HourlyRate</th>\n",
       "      <th>MonthlyIncome</th>\n",
       "      <th>NumCompaniesWorked</th>\n",
       "      <th>OverTime</th>\n",
       "      <th>PercentSalaryHike</th>\n",
       "      <th>JobSatisfaction</th>\n",
       "    </tr>\n",
       "  </thead>\n",
       "  <tbody>\n",
       "    <tr>\n",
       "      <th>0</th>\n",
       "      <td>0</td>\n",
       "      <td>1001</td>\n",
       "      <td>Research &amp; Development</td>\n",
       "      <td>2</td>\n",
       "      <td>Male</td>\n",
       "      <td>92</td>\n",
       "      <td>2090</td>\n",
       "      <td>6</td>\n",
       "      <td>Yes</td>\n",
       "      <td>15</td>\n",
       "      <td>3</td>\n",
       "    </tr>\n",
       "    <tr>\n",
       "      <th>1</th>\n",
       "      <td>0</td>\n",
       "      <td>1002</td>\n",
       "      <td>Research &amp; Development</td>\n",
       "      <td>2</td>\n",
       "      <td>Male</td>\n",
       "      <td>40</td>\n",
       "      <td>3468</td>\n",
       "      <td>9</td>\n",
       "      <td>No</td>\n",
       "      <td>12</td>\n",
       "      <td>2</td>\n",
       "    </tr>\n",
       "    <tr>\n",
       "      <th>2</th>\n",
       "      <td>0</td>\n",
       "      <td>1003</td>\n",
       "      <td>Research &amp; Development</td>\n",
       "      <td>3</td>\n",
       "      <td>Female</td>\n",
       "      <td>81</td>\n",
       "      <td>2670</td>\n",
       "      <td>4</td>\n",
       "      <td>Yes</td>\n",
       "      <td>20</td>\n",
       "      <td>1</td>\n",
       "    </tr>\n",
       "    <tr>\n",
       "      <th>3</th>\n",
       "      <td>0</td>\n",
       "      <td>1004</td>\n",
       "      <td>Research &amp; Development</td>\n",
       "      <td>24</td>\n",
       "      <td>Male</td>\n",
       "      <td>67</td>\n",
       "      <td>2693</td>\n",
       "      <td>1</td>\n",
       "      <td>No</td>\n",
       "      <td>22</td>\n",
       "      <td>3</td>\n",
       "    </tr>\n",
       "    <tr>\n",
       "      <th>4</th>\n",
       "      <td>0</td>\n",
       "      <td>1005</td>\n",
       "      <td>Research &amp; Development</td>\n",
       "      <td>27</td>\n",
       "      <td>Male</td>\n",
       "      <td>94</td>\n",
       "      <td>5237</td>\n",
       "      <td>6</td>\n",
       "      <td>No</td>\n",
       "      <td>13</td>\n",
       "      <td>3</td>\n",
       "    </tr>\n",
       "    <tr>\n",
       "      <th>...</th>\n",
       "      <td>...</td>\n",
       "      <td>...</td>\n",
       "      <td>...</td>\n",
       "      <td>...</td>\n",
       "      <td>...</td>\n",
       "      <td>...</td>\n",
       "      <td>...</td>\n",
       "      <td>...</td>\n",
       "      <td>...</td>\n",
       "      <td>...</td>\n",
       "      <td>...</td>\n",
       "    </tr>\n",
       "    <tr>\n",
       "      <th>1465</th>\n",
       "      <td>0</td>\n",
       "      <td>2466</td>\n",
       "      <td>Research &amp; Development</td>\n",
       "      <td>1</td>\n",
       "      <td>Female</td>\n",
       "      <td>62</td>\n",
       "      <td>2977</td>\n",
       "      <td>1</td>\n",
       "      <td>No</td>\n",
       "      <td>12</td>\n",
       "      <td>4</td>\n",
       "    </tr>\n",
       "    <tr>\n",
       "      <th>1466</th>\n",
       "      <td>0</td>\n",
       "      <td>2467</td>\n",
       "      <td>Research &amp; Development</td>\n",
       "      <td>5</td>\n",
       "      <td>Male</td>\n",
       "      <td>74</td>\n",
       "      <td>9936</td>\n",
       "      <td>0</td>\n",
       "      <td>No</td>\n",
       "      <td>19</td>\n",
       "      <td>1</td>\n",
       "    </tr>\n",
       "    <tr>\n",
       "      <th>1467</th>\n",
       "      <td>0</td>\n",
       "      <td>2468</td>\n",
       "      <td>Research &amp; Development</td>\n",
       "      <td>6</td>\n",
       "      <td>Male</td>\n",
       "      <td>42</td>\n",
       "      <td>9991</td>\n",
       "      <td>4</td>\n",
       "      <td>No</td>\n",
       "      <td>15</td>\n",
       "      <td>1</td>\n",
       "    </tr>\n",
       "    <tr>\n",
       "      <th>1468</th>\n",
       "      <td>0</td>\n",
       "      <td>2469</td>\n",
       "      <td>Sales</td>\n",
       "      <td>2</td>\n",
       "      <td>Male</td>\n",
       "      <td>63</td>\n",
       "      <td>5390</td>\n",
       "      <td>2</td>\n",
       "      <td>No</td>\n",
       "      <td>14</td>\n",
       "      <td>2</td>\n",
       "    </tr>\n",
       "    <tr>\n",
       "      <th>1469</th>\n",
       "      <td>0</td>\n",
       "      <td>2470</td>\n",
       "      <td>Research &amp; Development</td>\n",
       "      <td>8</td>\n",
       "      <td>Male</td>\n",
       "      <td>82</td>\n",
       "      <td>4404</td>\n",
       "      <td>2</td>\n",
       "      <td>No</td>\n",
       "      <td>12</td>\n",
       "      <td>3</td>\n",
       "    </tr>\n",
       "  </tbody>\n",
       "</table>\n",
       "<p>1470 rows × 11 columns</p>\n",
       "</div>"
      ],
      "text/plain": [
       "      Attrition  EmpID              Department  DistanceFromHome  Gender  \\\n",
       "0             0   1001  Research & Development                 2    Male   \n",
       "1             0   1002  Research & Development                 2    Male   \n",
       "2             0   1003  Research & Development                 3  Female   \n",
       "3             0   1004  Research & Development                24    Male   \n",
       "4             0   1005  Research & Development                27    Male   \n",
       "...         ...    ...                     ...               ...     ...   \n",
       "1465          0   2466  Research & Development                 1  Female   \n",
       "1466          0   2467  Research & Development                 5    Male   \n",
       "1467          0   2468  Research & Development                 6    Male   \n",
       "1468          0   2469                   Sales                 2    Male   \n",
       "1469          0   2470  Research & Development                 8    Male   \n",
       "\n",
       "      HourlyRate  MonthlyIncome  NumCompaniesWorked OverTime  \\\n",
       "0             92           2090                   6      Yes   \n",
       "1             40           3468                   9       No   \n",
       "2             81           2670                   4      Yes   \n",
       "3             67           2693                   1       No   \n",
       "4             94           5237                   6       No   \n",
       "...          ...            ...                 ...      ...   \n",
       "1465          62           2977                   1       No   \n",
       "1466          74           9936                   0       No   \n",
       "1467          42           9991                   4       No   \n",
       "1468          63           5390                   2       No   \n",
       "1469          82           4404                   2       No   \n",
       "\n",
       "      PercentSalaryHike  JobSatisfaction  \n",
       "0                    15                3  \n",
       "1                    12                2  \n",
       "2                    20                1  \n",
       "3                    22                3  \n",
       "4                    13                3  \n",
       "...                 ...              ...  \n",
       "1465                 12                4  \n",
       "1466                 19                1  \n",
       "1467                 15                1  \n",
       "1468                 14                2  \n",
       "1469                 12                3  \n",
       "\n",
       "[1470 rows x 11 columns]"
      ]
     },
     "execution_count": 7,
     "metadata": {},
     "output_type": "execute_result"
    }
   ],
   "source": [
    "raw_df"
   ]
  },
  {
   "cell_type": "code",
   "execution_count": 11,
   "id": "53b19ac4",
   "metadata": {},
   "outputs": [],
   "source": [
    "##-------------------------------------------------------------------\n",
    "##  Select the Predictor Variables into a dataframe called X_features\n",
    "##--------------------------------------------------------------------\n",
    "X_features = list( raw_df.columns )\n",
    "X_features.remove( 'EmpID')\n",
    "X_features.remove( 'Attrition')\n"
   ]
  },
  {
   "cell_type": "code",
   "execution_count": 13,
   "id": "00d1a85a",
   "metadata": {},
   "outputs": [
    {
     "name": "stdout",
     "output_type": "stream",
     "text": [
      "['Department', 'DistanceFromHome', 'Gender', 'HourlyRate', 'MonthlyIncome', 'NumCompaniesWorked', 'OverTime', 'PercentSalaryHike', 'JobSatisfaction']\n"
     ]
    }
   ],
   "source": [
    "print(X_features)"
   ]
  },
  {
   "cell_type": "code",
   "execution_count": 15,
   "id": "4889d18e",
   "metadata": {},
   "outputs": [],
   "source": [
    "##------------------------------------------\n",
    "##  Set up a dataframe with only X-variables\n",
    "##------------------------------------------\n",
    "X =  raw_df[X_features]\n"
   ]
  },
  {
   "cell_type": "code",
   "execution_count": 17,
   "id": "3438b582",
   "metadata": {},
   "outputs": [
    {
     "name": "stdout",
     "output_type": "stream",
     "text": [
      "<class 'pandas.core.series.Series'>\n",
      "RangeIndex: 1470 entries, 0 to 1469\n",
      "Series name: Attrition\n",
      "Non-Null Count  Dtype   \n",
      "--------------  -----   \n",
      "1470 non-null   category\n",
      "dtypes: category(1)\n",
      "memory usage: 1.7 KB\n",
      "None\n"
     ]
    }
   ],
   "source": [
    "##------------------------------------------\n",
    "##  Identify the Class Label or Y variable\n",
    "##------------------------------------------\n",
    "Y = raw_df.Attrition.astype('category')\n",
    "\n",
    "print(Y.info())"
   ]
  },
  {
   "cell_type": "code",
   "execution_count": 19,
   "id": "cc83d799",
   "metadata": {},
   "outputs": [
    {
     "name": "stdout",
     "output_type": "stream",
     "text": [
      "<class 'pandas.core.series.Series'>\n",
      "Index: 1029 entries, 305 to 858\n",
      "Series name: Attrition\n",
      "Non-Null Count  Dtype   \n",
      "--------------  -----   \n",
      "1029 non-null   category\n",
      "dtypes: category(1)\n",
      "memory usage: 9.2 KB\n",
      "None\n"
     ]
    }
   ],
   "source": [
    "##-----------------------------------------\n",
    "##  Split the Data into Training and Test\n",
    "##  test size=0.3 indicates 70% training and\n",
    "##  30% test data\n",
    "##-----------------------------------------\n",
    "from sklearn.model_selection import train_test_split\n",
    "X_train, X_test, y_train, y_test = train_test_split(X,\n",
    "Y,\n",
    "test_size = 0.3,\n",
    "random_state = 500)\n",
    "print(y_train.info())\n",
    "\n",
    "##############################################################################\n",
    "##  All data processing should be done after split to prevent data leakage  ##\n",
    "##############################################################################"
   ]
  },
  {
   "cell_type": "code",
   "execution_count": 21,
   "id": "2430d73c",
   "metadata": {},
   "outputs": [],
   "source": [
    "##############################################################################\n",
    "##  Pre-process X-vars   ##\n",
    "##############################################################################\n",
    "\n",
    "##-----------------------------------------------------------------------\n",
    "##  1. Identify and dummy code (one-hot encoding) the categorical column\n",
    "##-----------------------------------------------------------------------\n",
    "# List of categorical columns\n",
    "categorical_columns = ['Department','Gender','OverTime']\n",
    "X_train_encoded = pd.get_dummies(X_train, columns=categorical_columns,drop_first = True,dtype=int )\n",
    "X_test_encoded = pd.get_dummies(X_test, columns=categorical_columns,drop_first = True ,dtype=int)\n",
    "\n"
   ]
  },
  {
   "cell_type": "code",
   "execution_count": 23,
   "id": "a325b71c",
   "metadata": {},
   "outputs": [],
   "source": [
    "##-----------------------------------------------------------------------\n",
    "##  2. Normalise the cont. columns\n",
    "##-----------------------------------------------------------------------\n",
    "from sklearn.preprocessing import MinMaxScaler\n",
    "continuous_columns= ['DistanceFromHome','HourlyRate','MonthlyIncome','NumCompaniesWorked','PercentSalaryHike','JobSatisfaction']\n",
    "scaler_min_max = MinMaxScaler()\n",
    "X_train_encoded[continuous_columns] = scaler_min_max.fit_transform(X_train_encoded[continuous_columns])\n",
    "X_test_encoded[continuous_columns] = scaler_min_max.fit_transform(X_test_encoded[continuous_columns])"
   ]
  },
  {
   "cell_type": "code",
   "execution_count": 25,
   "id": "b8c90cb7",
   "metadata": {},
   "outputs": [
    {
     "name": "stdout",
     "output_type": "stream",
     "text": [
      "<class 'pandas.core.frame.DataFrame'>\n",
      "Index: 1029 entries, 305 to 858\n",
      "Data columns (total 10 columns):\n",
      " #   Column                             Non-Null Count  Dtype  \n",
      "---  ------                             --------------  -----  \n",
      " 0   DistanceFromHome                   1029 non-null   float64\n",
      " 1   HourlyRate                         1029 non-null   float64\n",
      " 2   MonthlyIncome                      1029 non-null   float64\n",
      " 3   NumCompaniesWorked                 1029 non-null   float64\n",
      " 4   PercentSalaryHike                  1029 non-null   float64\n",
      " 5   JobSatisfaction                    1029 non-null   float64\n",
      " 6   Department_Research & Development  1029 non-null   int32  \n",
      " 7   Department_Sales                   1029 non-null   int32  \n",
      " 8   Gender_Male                        1029 non-null   int32  \n",
      " 9   OverTime_Yes                       1029 non-null   int32  \n",
      "dtypes: float64(6), int32(4)\n",
      "memory usage: 72.4 KB\n"
     ]
    }
   ],
   "source": [
    "X_train_encoded.info()"
   ]
  },
  {
   "cell_type": "code",
   "execution_count": 27,
   "id": "4a933d35",
   "metadata": {},
   "outputs": [
    {
     "data": {
      "text/html": [
       "<div>\n",
       "<style scoped>\n",
       "    .dataframe tbody tr th:only-of-type {\n",
       "        vertical-align: middle;\n",
       "    }\n",
       "\n",
       "    .dataframe tbody tr th {\n",
       "        vertical-align: top;\n",
       "    }\n",
       "\n",
       "    .dataframe thead th {\n",
       "        text-align: right;\n",
       "    }\n",
       "</style>\n",
       "<table border=\"1\" class=\"dataframe\">\n",
       "  <thead>\n",
       "    <tr style=\"text-align: right;\">\n",
       "      <th></th>\n",
       "      <th>DistanceFromHome</th>\n",
       "      <th>HourlyRate</th>\n",
       "      <th>MonthlyIncome</th>\n",
       "      <th>NumCompaniesWorked</th>\n",
       "      <th>PercentSalaryHike</th>\n",
       "      <th>JobSatisfaction</th>\n",
       "      <th>Department_Research &amp; Development</th>\n",
       "      <th>Department_Sales</th>\n",
       "      <th>Gender_Male</th>\n",
       "      <th>OverTime_Yes</th>\n",
       "    </tr>\n",
       "  </thead>\n",
       "  <tbody>\n",
       "    <tr>\n",
       "      <th>305</th>\n",
       "      <td>0.321429</td>\n",
       "      <td>0.714286</td>\n",
       "      <td>0.192049</td>\n",
       "      <td>0.333333</td>\n",
       "      <td>0.428571</td>\n",
       "      <td>1.0</td>\n",
       "      <td>1</td>\n",
       "      <td>0</td>\n",
       "      <td>1</td>\n",
       "      <td>0</td>\n",
       "    </tr>\n",
       "    <tr>\n",
       "      <th>956</th>\n",
       "      <td>0.250000</td>\n",
       "      <td>0.528571</td>\n",
       "      <td>0.169658</td>\n",
       "      <td>0.444444</td>\n",
       "      <td>0.500000</td>\n",
       "      <td>0.0</td>\n",
       "      <td>1</td>\n",
       "      <td>0</td>\n",
       "      <td>0</td>\n",
       "      <td>1</td>\n",
       "    </tr>\n",
       "    <tr>\n",
       "      <th>1352</th>\n",
       "      <td>0.000000</td>\n",
       "      <td>0.100000</td>\n",
       "      <td>0.248319</td>\n",
       "      <td>0.444444</td>\n",
       "      <td>0.000000</td>\n",
       "      <td>1.0</td>\n",
       "      <td>0</td>\n",
       "      <td>0</td>\n",
       "      <td>1</td>\n",
       "      <td>1</td>\n",
       "    </tr>\n",
       "    <tr>\n",
       "      <th>1153</th>\n",
       "      <td>0.607143</td>\n",
       "      <td>0.500000</td>\n",
       "      <td>0.086867</td>\n",
       "      <td>0.111111</td>\n",
       "      <td>0.571429</td>\n",
       "      <td>1.0</td>\n",
       "      <td>1</td>\n",
       "      <td>0</td>\n",
       "      <td>0</td>\n",
       "      <td>0</td>\n",
       "    </tr>\n",
       "    <tr>\n",
       "      <th>760</th>\n",
       "      <td>1.000000</td>\n",
       "      <td>0.871429</td>\n",
       "      <td>0.233762</td>\n",
       "      <td>0.111111</td>\n",
       "      <td>0.214286</td>\n",
       "      <td>1.0</td>\n",
       "      <td>0</td>\n",
       "      <td>1</td>\n",
       "      <td>0</td>\n",
       "      <td>0</td>\n",
       "    </tr>\n",
       "  </tbody>\n",
       "</table>\n",
       "</div>"
      ],
      "text/plain": [
       "      DistanceFromHome  HourlyRate  MonthlyIncome  NumCompaniesWorked  \\\n",
       "305           0.321429    0.714286       0.192049            0.333333   \n",
       "956           0.250000    0.528571       0.169658            0.444444   \n",
       "1352          0.000000    0.100000       0.248319            0.444444   \n",
       "1153          0.607143    0.500000       0.086867            0.111111   \n",
       "760           1.000000    0.871429       0.233762            0.111111   \n",
       "\n",
       "      PercentSalaryHike  JobSatisfaction  Department_Research & Development  \\\n",
       "305            0.428571              1.0                                  1   \n",
       "956            0.500000              0.0                                  1   \n",
       "1352           0.000000              1.0                                  0   \n",
       "1153           0.571429              1.0                                  1   \n",
       "760            0.214286              1.0                                  0   \n",
       "\n",
       "      Department_Sales  Gender_Male  OverTime_Yes  \n",
       "305                  0            1             0  \n",
       "956                  0            0             1  \n",
       "1352                 0            1             1  \n",
       "1153                 0            0             0  \n",
       "760                  1            0             0  "
      ]
     },
     "execution_count": 27,
     "metadata": {},
     "output_type": "execute_result"
    }
   ],
   "source": [
    "X_train_encoded.head()"
   ]
  },
  {
   "cell_type": "code",
   "execution_count": 29,
   "id": "3095f353",
   "metadata": {
    "scrolled": true
   },
   "outputs": [
    {
     "data": {
      "image/png": "[encoded data removed]",
      "text/plain": [
       "<Figure size 800x600 with 2 Axes>"
      ]
     },
     "metadata": {},
     "output_type": "display_data"
    }
   ],
   "source": [
    "##-----------------------------------------------------------------------\n",
    "##  3. Identify and and remove highly correlated columns\n",
    "##-----------------------------------------------------------------------\n",
    "import matplotlib.pyplot as plt\n",
    "import seaborn as sns\n",
    "corr_matrix = X_train_encoded.corr(numeric_only=True)\n",
    "plt.figure(figsize=(8, 6))\n",
    "sns.heatmap(corr_matrix.round(2), annot=True, cmap='coolwarm', linewidths=0.5)\n",
    "plt.title('Correlation Heatmap')\n",
    "plt.show()"
   ]
  },
  {
   "cell_type": "code",
   "execution_count": null,
   "id": "06907d3c",
   "metadata": {},
   "outputs": [],
   "source": []
  },
  {
   "cell_type": "code",
   "execution_count": 51,
   "id": "b8f9df13",
   "metadata": {},
   "outputs": [],
   "source": [
    "from sklearn.neural_network import MLPClassifier\n",
    "##nn_model = MLPClassifier(random_state=42)\n",
    "##nn_model = MLPClassifier(random_state=42, verbose=True)\n",
    "##nn_model = MLPClassifier(random_state=42, verbose=True, max_iter=1500, early_stopping=True) ##early stoppiong to stop the iteration when it no longer can change the error, or else itwill overfit the model\n",
    "## here too many nodes are there in a hidden layer, so we hvae to reduce that , hence we calculate the number of nodes using that 2/3[number input variables+ levels of output]\n",
    "##nn_model = MLPClassifier(random_state=42, verbose=True, max_iter=1500, early_stopping=True,hidden_layer_sizes=(12,) ) ##early stoppiong to stop the iteration when it no longer can change the error, or else itwill overfit the model\n",
    "## wit this model, try to change the learning rate and try to increase specificity and sensitivity\n",
    "nn_model = MLPClassifier(random_state=42, verbose=True, max_iter=1500, early_stopping=True,hidden_layer_sizes=(8,),learning_rate_init=0.2)"
   ]
  },
  {
   "cell_type": "code",
   "execution_count": 53,
   "id": "fb693b17",
   "metadata": {},
   "outputs": [
    {
     "name": "stdout",
     "output_type": "stream",
     "text": [
      "Hyperparameters of the MLPClassifier:\n",
      " {'activation': 'relu', 'alpha': 0.0001, 'batch_size': 'auto', 'beta_1': 0.9, 'beta_2': 0.999, 'early_stopping': True, 'epsilon': 1e-08, 'hidden_layer_sizes': (8,), 'learning_rate': 'constant', 'learning_rate_init': 0.2, 'max_fun': 15000, 'max_iter': 1500, 'momentum': 0.9, 'n_iter_no_change': 10, 'nesterovs_momentum': True, 'power_t': 0.5, 'random_state': 42, 'shuffle': True, 'solver': 'adam', 'tol': 0.0001, 'validation_fraction': 0.1, 'verbose': True, 'warm_start': False}\n"
     ]
    }
   ],
   "source": [
    "print(\"Hyperparameters of the MLPClassifier:\\n\",nn_model.get_params() )"
   ]
  },
  {
   "cell_type": "code",
   "execution_count": 55,
   "id": "3a985523",
   "metadata": {},
   "outputs": [
    {
     "name": "stdout",
     "output_type": "stream",
     "text": [
      "Iteration 1, loss = 0.62350929\n",
      "Validation score: 0.737864\n",
      "Iteration 2, loss = 0.50482702\n",
      "Validation score: 0.737864\n",
      "Iteration 3, loss = 0.47021342\n",
      "Validation score: 0.737864\n",
      "Iteration 4, loss = 0.44218388\n",
      "Validation score: 0.854369\n",
      "Iteration 5, loss = 0.40909041\n",
      "Validation score: 0.854369\n",
      "Iteration 6, loss = 0.41424912\n",
      "Validation score: 0.854369\n",
      "Iteration 7, loss = 0.40925523\n",
      "Validation score: 0.854369\n",
      "Iteration 8, loss = 0.41557794\n",
      "Validation score: 0.873786\n",
      "Iteration 9, loss = 0.39947823\n",
      "Validation score: 0.854369\n",
      "Iteration 10, loss = 0.40519672\n",
      "Validation score: 0.873786\n",
      "Iteration 11, loss = 0.39641762\n",
      "Validation score: 0.873786\n",
      "Iteration 12, loss = 0.40288756\n",
      "Validation score: 0.864078\n",
      "Iteration 13, loss = 0.39634387\n",
      "Validation score: 0.873786\n",
      "Iteration 14, loss = 0.39540533\n",
      "Validation score: 0.873786\n",
      "Iteration 15, loss = 0.40234614\n",
      "Validation score: 0.873786\n",
      "Iteration 16, loss = 0.39492877\n",
      "Validation score: 0.873786\n",
      "Iteration 17, loss = 0.39442692\n",
      "Validation score: 0.873786\n",
      "Iteration 18, loss = 0.39263045\n",
      "Validation score: 0.873786\n",
      "Iteration 19, loss = 0.39186979\n",
      "Validation score: 0.873786\n",
      "Validation score did not improve more than tol=0.000100 for 10 consecutive epochs. Stopping.\n"
     ]
    },
    {
     "data": {
      "text/html": [
       "<style>#sk-container-id-2 {color: black;background-color: white;}#sk-container-id-2 pre{padding: 0;}#sk-container-id-2 div.sk-toggleable {background-color: white;}#sk-container-id-2 label.sk-toggleable__label {cursor: pointer;display: block;width: 100%;margin-bottom: 0;padding: 0.3em;box-sizing: border-box;text-align: center;}#sk-container-id-2 label.sk-toggleable__label-arrow:before {content: \"▸\";float: left;margin-right: 0.25em;color: #696969;}#sk-container-id-2 label.sk-toggleable__label-arrow:hover:before {color: black;}#sk-container-id-2 div.sk-estimator:hover label.sk-toggleable__label-arrow:before {color: black;}#sk-container-id-2 div.sk-toggleable__content {max-height: 0;max-width: 0;overflow: hidden;text-align: left;background-color: #f0f8ff;}#sk-container-id-2 div.sk-toggleable__content pre {margin: 0.2em;color: black;border-radius: 0.25em;background-color: #f0f8ff;}#sk-container-id-2 input.sk-toggleable__control:checked~div.sk-toggleable__content {max-height: 200px;max-width: 100%;overflow: auto;}#sk-container-id-2 input.sk-toggleable__control:checked~label.sk-toggleable__label-arrow:before {content: \"▾\";}#sk-container-id-2 div.sk-estimator input.sk-toggleable__control:checked~label.sk-toggleable__label {background-color: #d4ebff;}#sk-container-id-2 div.sk-label input.sk-toggleable__control:checked~label.sk-toggleable__label {background-color: #d4ebff;}#sk-container-id-2 input.sk-hidden--visually {border: 0;clip: rect(1px 1px 1px 1px);clip: rect(1px, 1px, 1px, 1px);height: 1px;margin: -1px;overflow: hidden;padding: 0;position: absolute;width: 1px;}#sk-container-id-2 div.sk-estimator {font-family: monospace;background-color: #f0f8ff;border: 1px dotted black;border-radius: 0.25em;box-sizing: border-box;margin-bottom: 0.5em;}#sk-container-id-2 div.sk-estimator:hover {background-color: #d4ebff;}#sk-container-id-2 div.sk-parallel-item::after {content: \"\";width: 100%;border-bottom: 1px solid gray;flex-grow: 1;}#sk-container-id-2 div.sk-label:hover label.sk-toggleable__label {background-color: #d4ebff;}#sk-container-id-2 div.sk-serial::before {content: \"\";position: absolute;border-left: 1px solid gray;box-sizing: border-box;top: 0;bottom: 0;left: 50%;z-index: 0;}#sk-container-id-2 div.sk-serial {display: flex;flex-direction: column;align-items: center;background-color: white;padding-right: 0.2em;padding-left: 0.2em;position: relative;}#sk-container-id-2 div.sk-item {position: relative;z-index: 1;}#sk-container-id-2 div.sk-parallel {display: flex;align-items: stretch;justify-content: center;background-color: white;position: relative;}#sk-container-id-2 div.sk-item::before, #sk-container-id-2 div.sk-parallel-item::before {content: \"\";position: absolute;border-left: 1px solid gray;box-sizing: border-box;top: 0;bottom: 0;left: 50%;z-index: -1;}#sk-container-id-2 div.sk-parallel-item {display: flex;flex-direction: column;z-index: 1;position: relative;background-color: white;}#sk-container-id-2 div.sk-parallel-item:first-child::after {align-self: flex-end;width: 50%;}#sk-container-id-2 div.sk-parallel-item:last-child::after {align-self: flex-start;width: 50%;}#sk-container-id-2 div.sk-parallel-item:only-child::after {width: 0;}#sk-container-id-2 div.sk-dashed-wrapped {border: 1px dashed gray;margin: 0 0.4em 0.5em 0.4em;box-sizing: border-box;padding-bottom: 0.4em;background-color: white;}#sk-container-id-2 div.sk-label label {font-family: monospace;font-weight: bold;display: inline-block;line-height: 1.2em;}#sk-container-id-2 div.sk-label-container {text-align: center;}#sk-container-id-2 div.sk-container {/* jupyter's `normalize.less` sets `[hidden] { display: none; }` but bootstrap.min.css set `[hidden] { display: none !important; }` so we also need the `!important` here to be able to override the default hidden behavior on the sphinx rendered scikit-learn.org. See: https://github.com/scikit-learn/scikit-learn/issues/21755 */display: inline-block !important;position: relative;}#sk-container-id-2 div.sk-text-repr-fallback {display: none;}</style><div id=\"sk-container-id-2\" class=\"sk-top-container\"><div class=\"sk-text-repr-fallback\"><pre>MLPClassifier(early_stopping=True, hidden_layer_sizes=(8,),\n",
       "              learning_rate_init=0.2, max_iter=1500, random_state=42,\n",
       "              verbose=True)</pre><b>In a Jupyter environment, please rerun this cell to show the HTML representation or trust the notebook. <br />On GitHub, the HTML representation is unable to render, please try loading this page with nbviewer.org.</b></div><div class=\"sk-container\" hidden><div class=\"sk-item\"><div class=\"sk-estimator sk-toggleable\"><input class=\"sk-toggleable__control sk-hidden--visually\" id=\"sk-estimator-id-2\" type=\"checkbox\" checked><label for=\"sk-estimator-id-2\" class=\"sk-toggleable__label sk-toggleable__label-arrow\">MLPClassifier</label><div class=\"sk-toggleable__content\"><pre>MLPClassifier(early_stopping=True, hidden_layer_sizes=(8,),\n",
       "              learning_rate_init=0.2, max_iter=1500, random_state=42,\n",
       "              verbose=True)</pre></div></div></div></div></div>"
      ],
      "text/plain": [
       "MLPClassifier(early_stopping=True, hidden_layer_sizes=(8,),\n",
       "              learning_rate_init=0.2, max_iter=1500, random_state=42,\n",
       "              verbose=True)"
      ]
     },
     "execution_count": 55,
     "metadata": {},
     "output_type": "execute_result"
    }
   ],
   "source": [
    "##-------------------------------------------------------\n",
    "##  Train NN model on training data\n",
    "##-------------------------------------------------------\n",
    "nn_model.fit(X_train_encoded, y_train)"
   ]
  },
  {
   "cell_type": "code",
   "execution_count": 57,
   "id": "897abb15",
   "metadata": {},
   "outputs": [],
   "source": [
    "##----------------------------\n",
    "##  Apply model on test data\n",
    "##----------------------------\n",
    "y_prob=nn_model.predict_proba(X_test_encoded)[:,1] # probabilities\n",
    "#y_prob holds the probability values for each record in the test data"
   ]
  },
  {
   "cell_type": "code",
   "execution_count": 59,
   "id": "1d903fbf",
   "metadata": {},
   "outputs": [
    {
     "data": {
      "text/plain": [
       "array([0.03692079, 0.62466675, 0.02141018, 0.68864168, 0.5791217 ,\n",
       "       0.0423978 , 0.71399406, 0.71399406, 0.05485744, 0.71399406,\n",
       "       0.71399406, 0.06994042, 0.12943297, 0.01148288, 0.03502596,\n",
       "       0.06991126, 0.00128397, 0.14731224, 0.10917725, 0.06812639,\n",
       "       0.02617367, 0.15924514, 0.04690677, 0.04488022, 0.001354  ,\n",
       "       0.71399406, 0.04270814, 0.0751042 , 0.60864536, 0.04324671,\n",
       "       0.51763134, 0.0498757 , 0.04707913, 0.04225979, 0.02335083,\n",
       "       0.05797487, 0.71399406, 0.05509991, 0.00341314, 0.02377881,\n",
       "       0.04627709, 0.03830544, 0.71399406, 0.00135426, 0.03277447,\n",
       "       0.00171597, 0.59652218, 0.04483685, 0.63265249, 0.10233392,\n",
       "       0.09658054, 0.00712014, 0.71399406, 0.19664973, 0.13183134,\n",
       "       0.11176896, 0.13109511, 0.03741843, 0.02523228, 0.1507553 ,\n",
       "       0.07751913, 0.01779842, 0.1417419 , 0.11777235, 0.71399406,\n",
       "       0.00714236, 0.11652374, 0.05326671, 0.09635191, 0.00918901,\n",
       "       0.01883717, 0.01766594, 0.04311087, 0.02969783, 0.64086928,\n",
       "       0.71092067, 0.08397013, 0.00983294, 0.01250963, 0.71399406,\n",
       "       0.02712969, 0.62895979, 0.03312761, 0.13245687, 0.09103876,\n",
       "       0.04588632, 0.02152863, 0.14045627, 0.71399406, 0.03448758,\n",
       "       0.16784806, 0.07772526, 0.09903545, 0.05053609, 0.05401254,\n",
       "       0.6147371 , 0.09878292, 0.00637129, 0.09066009, 0.5407266 ,\n",
       "       0.02885147, 0.0566584 , 0.02653937, 0.70176012, 0.00322457,\n",
       "       0.52879144, 0.00411629, 0.03931478, 0.12889702, 0.12677226,\n",
       "       0.03044719, 0.03096601, 0.0694459 , 0.00802565, 0.67619674,\n",
       "       0.66757799, 0.15657607, 0.54137224, 0.71399406, 0.04045788,\n",
       "       0.71399406, 0.025216  , 0.07419663, 0.03140406, 0.01262021,\n",
       "       0.00797913, 0.00215043, 0.71399406, 0.01578724, 0.39971005,\n",
       "       0.01380072, 0.02888964, 0.01539474, 0.04926481, 0.11085665,\n",
       "       0.13662509, 0.71399406, 0.71399406, 0.04676689, 0.01345744,\n",
       "       0.04626756, 0.05516866, 0.03479217, 0.04458786, 0.6767837 ,\n",
       "       0.0564684 , 0.01859588, 0.68764377, 0.01909295, 0.0011181 ,\n",
       "       0.00106468, 0.07601316, 0.71399406, 0.06372736, 0.04963367,\n",
       "       0.70107847, 0.05754061, 0.06340111, 0.0112835 , 0.14871868,\n",
       "       0.09690035, 0.06080008, 0.07642248, 0.58323607, 0.06116988,\n",
       "       0.06477524, 0.05978151, 0.02070213, 0.03798554, 0.0060589 ,\n",
       "       0.12320524, 0.71399406, 0.71399406, 0.01793725, 0.02835638,\n",
       "       0.71399406, 0.05847073, 0.14298992, 0.5057296 , 0.07485599,\n",
       "       0.62165283, 0.6315783 , 0.04809458, 0.19504181, 0.04615061,\n",
       "       0.71399406, 0.71399406, 0.04452023, 0.03784843, 0.00123596,\n",
       "       0.60656331, 0.04239801, 0.00152897, 0.71399406, 0.62999851,\n",
       "       0.71399406, 0.03161454, 0.00876432, 0.00777569, 0.0446642 ,\n",
       "       0.68900997, 0.04270376, 0.07251984, 0.71399406, 0.00320851,\n",
       "       0.61407255, 0.00258009, 0.71399406, 0.02493959, 0.08007942,\n",
       "       0.00364813, 0.02131303, 0.01262801, 0.71399406, 0.08248275,\n",
       "       0.02052   , 0.03312678, 0.0922093 , 0.63198019, 0.08215497,\n",
       "       0.08331075, 0.00302538, 0.64369623, 0.71399406, 0.0149854 ,\n",
       "       0.01841529, 0.00129078, 0.22552016, 0.55195955, 0.05625097,\n",
       "       0.02824964, 0.06454409, 0.07117841, 0.01062569, 0.00921957,\n",
       "       0.06986444, 0.71399406, 0.01768172, 0.68920311, 0.02315791,\n",
       "       0.71399406, 0.02663468, 0.01036706, 0.10582225, 0.58650838,\n",
       "       0.00785623, 0.56082652, 0.64001283, 0.01591331, 0.02042712,\n",
       "       0.71399406, 0.04430936, 0.01717405, 0.00141523, 0.04091969,\n",
       "       0.0124796 , 0.71399406, 0.02813901, 0.05624902, 0.01092993,\n",
       "       0.53288126, 0.05136437, 0.1515321 , 0.71399406, 0.0697864 ,\n",
       "       0.47886432, 0.07273254, 0.62041678, 0.04468008, 0.69764043,\n",
       "       0.08641   , 0.00822417, 0.68347947, 0.02147561, 0.06098864,\n",
       "       0.60489184, 0.01600804, 0.00670945, 0.06266159, 0.11525983,\n",
       "       0.04534267, 0.02758258, 0.01338639, 0.11726946, 0.71399406,\n",
       "       0.1485058 , 0.01159884, 0.71179354, 0.06462907, 0.71399406,\n",
       "       0.68647766, 0.71399406, 0.02309344, 0.0638412 , 0.05133183,\n",
       "       0.02712971, 0.15273714, 0.05243683, 0.03970971, 0.00841036,\n",
       "       0.045545  , 0.71399406, 0.03851314, 0.29599105, 0.00442054,\n",
       "       0.09763761, 0.71399406, 0.01178595, 0.03467564, 0.71399406,\n",
       "       0.71399406, 0.09096785, 0.06076407, 0.67172936, 0.71399406,\n",
       "       0.71399406, 0.06512365, 0.05320857, 0.6553097 , 0.11400959,\n",
       "       0.01350136, 0.07491266, 0.04507494, 0.02272592, 0.14245845,\n",
       "       0.6990878 , 0.71399406, 0.68515142, 0.06780869, 0.04749414,\n",
       "       0.03477736, 0.10573188, 0.49840366, 0.08991703, 0.19416298,\n",
       "       0.16139837, 0.68171981, 0.0369457 , 0.71399406, 0.68090731,\n",
       "       0.14833596, 0.04657145, 0.04876098, 0.00465962, 0.71085396,\n",
       "       0.02029522, 0.02450188, 0.11472111, 0.71399406, 0.70277654,\n",
       "       0.06719949, 0.02524918, 0.03735792, 0.68655811, 0.08175227,\n",
       "       0.14612286, 0.05049419, 0.06258908, 0.71399406, 0.45447264,\n",
       "       0.15804589, 0.64630293, 0.71399406, 0.08263217, 0.58487416,\n",
       "       0.00186828, 0.50656822, 0.04643599, 0.03409485, 0.05368527,\n",
       "       0.00928509, 0.68265311, 0.00586865, 0.00291215, 0.05501477,\n",
       "       0.64157057, 0.02193316, 0.68303234, 0.0351895 , 0.59884353,\n",
       "       0.06053049, 0.02451606, 0.06555659, 0.04250508, 0.00712416,\n",
       "       0.04239828, 0.00770761, 0.64610955, 0.66708904, 0.08000337,\n",
       "       0.69522136, 0.00549991, 0.00463377, 0.13539142, 0.00509827,\n",
       "       0.6990659 , 0.04014638, 0.71399406, 0.53998982, 0.0196702 ,\n",
       "       0.13062946, 0.06235465, 0.03884493, 0.04986566, 0.05353493,\n",
       "       0.67737484, 0.03692401, 0.01839578, 0.06712103, 0.69103852,\n",
       "       0.66947949, 0.10167402, 0.0463727 , 0.02710807, 0.06709872,\n",
       "       0.02694667, 0.69705532, 0.71399406, 0.00389648, 0.03675659,\n",
       "       0.01699704, 0.66027998, 0.702432  , 0.00804103, 0.67452512,\n",
       "       0.00116011, 0.06906364, 0.07286272, 0.04214712, 0.65509373,\n",
       "       0.05285511, 0.02651171, 0.04955368, 0.57783522, 0.71399406,\n",
       "       0.09431883, 0.64866607, 0.0337054 , 0.03655269, 0.64610045,\n",
       "       0.02085695])"
      ]
     },
     "execution_count": 59,
     "metadata": {},
     "output_type": "execute_result"
    }
   ],
   "source": [
    "y_prob"
   ]
  },
  {
   "cell_type": "code",
   "execution_count": 61,
   "id": "75f78f08",
   "metadata": {},
   "outputs": [
    {
     "name": "stdout",
     "output_type": "stream",
     "text": [
      "     actual_Y  predicted_prob\n",
      "653         0        0.036921\n",
      "825         1        0.624667\n",
      "968         0        0.021410\n",
      "802         1        0.688642\n",
      "1322        1        0.579122\n"
     ]
    }
   ],
   "source": [
    "#Create a dataframe to store the test data's Y value and the predicted probability value\n",
    "#The original admit column is stored as \"actual_Y\"\n",
    "#The predicted prob is stored in y_prob\n",
    "y_pred_df = pd.DataFrame( { \"actual_Y\": y_test,\n",
    "\"predicted_prob\":y_prob})\n",
    "print(y_pred_df.head())"
   ]
  },
  {
   "cell_type": "code",
   "execution_count": 168,
   "id": "9c1a0a9e",
   "metadata": {},
   "outputs": [
    {
     "name": "stdout",
     "output_type": "stream",
     "text": [
      "     actual_Y  predicted_prob  predicted_Y\n",
      "653         0        0.036921            0\n",
      "825         1        0.624667            1\n",
      "968         0        0.021410            0\n",
      "802         1        0.688642            1\n",
      "1322        1        0.579122            1\n"
     ]
    }
   ],
   "source": [
    "##---------------------------------\n",
    "##  Based on default cut-off -0.5 ## changed to 0.3\n",
    "##---------------------------------\n",
    "y_pred_df['predicted_Y'] = y_pred_df.predicted_prob.map(\n",
    "lambda x: 1 if x >= 0.5 else 0)\n",
    "print(y_pred_df.head())"
   ]
  },
  {
   "cell_type": "code",
   "execution_count": 170,
   "id": "b84c562c",
   "metadata": {},
   "outputs": [
    {
     "name": "stdout",
     "output_type": "stream",
     "text": [
      "[[286  36]\n",
      " [ 31  88]]\n"
     ]
    }
   ],
   "source": [
    "from sklearn.metrics import confusion_matrix\n",
    "# Generating the confusion matrix using the DataFrame columns\n",
    "cm = confusion_matrix(y_pred_df['actual_Y'],y_pred_df['predicted_Y'])\n",
    "print(cm)"
   ]
  },
  {
   "cell_type": "code",
   "execution_count": 172,
   "id": "6d69b760",
   "metadata": {
    "scrolled": true
   },
   "outputs": [
    {
     "data": {
      "image/png": "[encoded data removed]",
      "text/plain": [
       "<Figure size 300x300 with 1 Axes>"
      ]
     },
     "metadata": {},
     "output_type": "display_data"
    }
   ],
   "source": [
    "# Create a heatmap for the confusion matrix\n",
    "plt.figure(figsize=(3,3))\n",
    "sns.heatmap(cm, annot=True, fmt='d', cmap='Blues', cbar=False, \n",
    "            xticklabels=['Predicted 0', 'Predicted 1'], \n",
    "            yticklabels=['Actual 0', 'Actual 1'])\n",
    "plt.title('Confusion Matrix')\n",
    "plt.ylabel('Actual')\n",
    "plt.xlabel('Predicted')\n",
    "plt.show()"
   ]
  },
  {
   "cell_type": "code",
   "execution_count": 174,
   "id": "e608b683",
   "metadata": {},
   "outputs": [
    {
     "name": "stdout",
     "output_type": "stream",
     "text": [
      "Sensitivity (Recall): 0.74\n",
      "Accuracy: 0.85\n"
     ]
    }
   ],
   "source": [
    "# Calculate Sensitivity (Recall), Specificity, and Accuracy using scikit-learn functions\n",
    "from sklearn.metrics import  accuracy_score, recall_score, precision_score\n",
    "sensitivity = recall_score(y_pred_df['actual_Y'], y_pred_df['predicted_Y'])\n",
    "accuracy = accuracy_score(y_pred_df['actual_Y'], y_pred_df['predicted_Y'])\n",
    "\n",
    "# Print metrics\n",
    "print(f\"Sensitivity (Recall): {sensitivity:.2f}\")\n",
    "#print(f\"Specificity: {specificity:.2f}\")\n",
    "print(f\"Accuracy: {accuracy:.2f}\")"
   ]
  },
  {
   "cell_type": "code",
   "execution_count": 176,
   "id": "cc0bf407",
   "metadata": {},
   "outputs": [
    {
     "name": "stdout",
     "output_type": "stream",
     "text": [
      "\n",
      "Classification Report:\n",
      "              precision    recall  f1-score   support\n",
      "\n",
      "           0       0.90      0.89      0.90       322\n",
      "           1       0.71      0.74      0.72       119\n",
      "\n",
      "    accuracy                           0.85       441\n",
      "   macro avg       0.81      0.81      0.81       441\n",
      "weighted avg       0.85      0.85      0.85       441\n",
      "\n"
     ]
    }
   ],
   "source": [
    "from sklearn.metrics import confusion_matrix, classification_report\n",
    "print(\"\\nClassification Report:\")\n",
    "print(classification_report(y_pred_df['actual_Y'],y_pred_df['predicted_Y']))"
   ]
  },
  {
   "cell_type": "markdown",
   "id": "75bdf736-f93a-43bb-9069-83ca93635c89",
   "metadata": {},
   "source": [
    "# For 0.5 Threshold\n",
    "### Accuracy is 85%\n",
    "### Specificity is 89%\n",
    "### Sensitivity is 74%\n",
    "### Reject ==> Hyperparameters --> Iterations=1500 with early stop -- hidden nodes=8 in a single layer\n",
    "\n"
   ]
  },
  {
   "cell_type": "markdown",
   "id": "18993bb4-c7f1-4c71-a228-b06fda4e86f4",
   "metadata": {},
   "source": []
  },
  {
   "cell_type": "code",
   "execution_count": null,
   "id": "92aec229-add7-4737-8e4f-a886cfb5dd10",
   "metadata": {},
   "outputs": [],
   "source": []
  }
 ],
 "metadata": {
  "kernelspec": {
   "display_name": "Python 3 (ipykernel)",
   "language": "python",
   "name": "python3"
  },
  "language_info": {
   "codemirror_mode": {
    "name": "ipython",
    "version": 3
   },
   "file_extension": ".py",
   "mimetype": "text/x-python",
   "name": "python",
   "nbconvert_exporter": "python",
   "pygments_lexer": "ipython3",
   "version": "3.11.7"
  }
 },
 "nbformat": 4,
 "nbformat_minor": 5
}
