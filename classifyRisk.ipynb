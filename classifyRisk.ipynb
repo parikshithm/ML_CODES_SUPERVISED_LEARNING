{
 "cells": [
  {
   "cell_type": "markdown",
   "id": "bd5db793-fb05-454f-82ca-2382786b2cb1",
   "metadata": {},
   "source": [
    "### Business Decision \n",
    "Objective: Build a predictive model to identify defaulters i.e high risk"
   ]
  },
  {
   "cell_type": "code",
   "execution_count": 1,
   "id": "8e16c881-b067-4c18-86b5-cc7a17f3c1a1",
   "metadata": {},
   "outputs": [],
   "source": [
    "import pandas as pd\n",
    "import matplotlib.pyplot as plt\n",
    "import seaborn as sns\n",
    "import sklearn"
   ]
  },
  {
   "cell_type": "code",
   "execution_count": 2,
   "id": "f271f2a9-e769-4679-a27f-03dcd1bad452",
   "metadata": {},
   "outputs": [],
   "source": [
    "raw_df = pd.read_excel('ClassifyRisk.xlsx')"
   ]
  },
  {
   "cell_type": "code",
   "execution_count": 3,
   "id": "6e7c7e85-2970-40f4-a8e8-451bd46ed2e4",
   "metadata": {},
   "outputs": [
    {
     "data": {
      "text/html": [
       "<div>\n",
       "<style scoped>\n",
       "    .dataframe tbody tr th:only-of-type {\n",
       "        vertical-align: middle;\n",
       "    }\n",
       "\n",
       "    .dataframe tbody tr th {\n",
       "        vertical-align: top;\n",
       "    }\n",
       "\n",
       "    .dataframe thead th {\n",
       "        text-align: right;\n",
       "    }\n",
       "</style>\n",
       "<table border=\"1\" class=\"dataframe\">\n",
       "  <thead>\n",
       "    <tr style=\"text-align: right;\">\n",
       "      <th></th>\n",
       "      <th>mortgage</th>\n",
       "      <th>loans</th>\n",
       "      <th>age</th>\n",
       "      <th>marital_status</th>\n",
       "      <th>income</th>\n",
       "      <th>risk</th>\n",
       "    </tr>\n",
       "  </thead>\n",
       "  <tbody>\n",
       "    <tr>\n",
       "      <th>0</th>\n",
       "      <td>y</td>\n",
       "      <td>3</td>\n",
       "      <td>34</td>\n",
       "      <td>other</td>\n",
       "      <td>28061</td>\n",
       "      <td>1</td>\n",
       "    </tr>\n",
       "    <tr>\n",
       "      <th>1</th>\n",
       "      <td>n</td>\n",
       "      <td>2</td>\n",
       "      <td>37</td>\n",
       "      <td>other</td>\n",
       "      <td>28009</td>\n",
       "      <td>1</td>\n",
       "    </tr>\n",
       "    <tr>\n",
       "      <th>2</th>\n",
       "      <td>n</td>\n",
       "      <td>2</td>\n",
       "      <td>29</td>\n",
       "      <td>other</td>\n",
       "      <td>27615</td>\n",
       "      <td>1</td>\n",
       "    </tr>\n",
       "    <tr>\n",
       "      <th>3</th>\n",
       "      <td>y</td>\n",
       "      <td>2</td>\n",
       "      <td>33</td>\n",
       "      <td>other</td>\n",
       "      <td>27287</td>\n",
       "      <td>1</td>\n",
       "    </tr>\n",
       "    <tr>\n",
       "      <th>4</th>\n",
       "      <td>y</td>\n",
       "      <td>2</td>\n",
       "      <td>39</td>\n",
       "      <td>other</td>\n",
       "      <td>26954</td>\n",
       "      <td>1</td>\n",
       "    </tr>\n",
       "  </tbody>\n",
       "</table>\n",
       "</div>"
      ],
      "text/plain": [
       "  mortgage  loans  age marital_status  income  risk\n",
       "0        y      3   34          other   28061     1\n",
       "1        n      2   37          other   28009     1\n",
       "2        n      2   29          other   27615     1\n",
       "3        y      2   33          other   27287     1\n",
       "4        y      2   39          other   26954     1"
      ]
     },
     "execution_count": 3,
     "metadata": {},
     "output_type": "execute_result"
    }
   ],
   "source": [
    "raw_df.head()"
   ]
  },
  {
   "cell_type": "code",
   "execution_count": 4,
   "id": "c65f09ef-73c4-4f0f-b911-51964ec80801",
   "metadata": {},
   "outputs": [
    {
     "name": "stdout",
     "output_type": "stream",
     "text": [
      "<class 'pandas.core.frame.DataFrame'>\n",
      "RangeIndex: 246 entries, 0 to 245\n",
      "Data columns (total 6 columns):\n",
      " #   Column          Non-Null Count  Dtype \n",
      "---  ------          --------------  ----- \n",
      " 0   mortgage        246 non-null    object\n",
      " 1   loans           246 non-null    int64 \n",
      " 2   age             246 non-null    int64 \n",
      " 3   marital_status  246 non-null    object\n",
      " 4   income          246 non-null    int64 \n",
      " 5   risk            246 non-null    int64 \n",
      "dtypes: int64(4), object(2)\n",
      "memory usage: 11.7+ KB\n"
     ]
    }
   ],
   "source": [
    "raw_df.info()"
   ]
  },
  {
   "cell_type": "code",
   "execution_count": 5,
   "id": "bb8e0e83-b14c-433a-bef1-fe3cdd6f9c19",
   "metadata": {},
   "outputs": [
    {
     "data": {
      "text/html": [
       "<div>\n",
       "<style scoped>\n",
       "    .dataframe tbody tr th:only-of-type {\n",
       "        vertical-align: middle;\n",
       "    }\n",
       "\n",
       "    .dataframe tbody tr th {\n",
       "        vertical-align: top;\n",
       "    }\n",
       "\n",
       "    .dataframe thead th {\n",
       "        text-align: right;\n",
       "    }\n",
       "</style>\n",
       "<table border=\"1\" class=\"dataframe\">\n",
       "  <thead>\n",
       "    <tr style=\"text-align: right;\">\n",
       "      <th></th>\n",
       "      <th>loans</th>\n",
       "      <th>age</th>\n",
       "      <th>income</th>\n",
       "      <th>risk</th>\n",
       "    </tr>\n",
       "  </thead>\n",
       "  <tbody>\n",
       "    <tr>\n",
       "      <th>count</th>\n",
       "      <td>246.000000</td>\n",
       "      <td>246.000000</td>\n",
       "      <td>246.000000</td>\n",
       "      <td>246.000000</td>\n",
       "    </tr>\n",
       "    <tr>\n",
       "      <th>mean</th>\n",
       "      <td>1.308943</td>\n",
       "      <td>40.642276</td>\n",
       "      <td>38789.593496</td>\n",
       "      <td>0.500000</td>\n",
       "    </tr>\n",
       "    <tr>\n",
       "      <th>std</th>\n",
       "      <td>0.843995</td>\n",
       "      <td>10.897017</td>\n",
       "      <td>13882.715928</td>\n",
       "      <td>0.501019</td>\n",
       "    </tr>\n",
       "    <tr>\n",
       "      <th>min</th>\n",
       "      <td>0.000000</td>\n",
       "      <td>17.000000</td>\n",
       "      <td>15301.000000</td>\n",
       "      <td>0.000000</td>\n",
       "    </tr>\n",
       "    <tr>\n",
       "      <th>25%</th>\n",
       "      <td>1.000000</td>\n",
       "      <td>32.000000</td>\n",
       "      <td>26881.250000</td>\n",
       "      <td>0.000000</td>\n",
       "    </tr>\n",
       "    <tr>\n",
       "      <th>50%</th>\n",
       "      <td>1.000000</td>\n",
       "      <td>41.000000</td>\n",
       "      <td>37662.500000</td>\n",
       "      <td>0.500000</td>\n",
       "    </tr>\n",
       "    <tr>\n",
       "      <th>75%</th>\n",
       "      <td>2.000000</td>\n",
       "      <td>50.000000</td>\n",
       "      <td>49398.500000</td>\n",
       "      <td>1.000000</td>\n",
       "    </tr>\n",
       "    <tr>\n",
       "      <th>max</th>\n",
       "      <td>3.000000</td>\n",
       "      <td>66.000000</td>\n",
       "      <td>78399.000000</td>\n",
       "      <td>1.000000</td>\n",
       "    </tr>\n",
       "  </tbody>\n",
       "</table>\n",
       "</div>"
      ],
      "text/plain": [
       "            loans         age        income        risk\n",
       "count  246.000000  246.000000    246.000000  246.000000\n",
       "mean     1.308943   40.642276  38789.593496    0.500000\n",
       "std      0.843995   10.897017  13882.715928    0.501019\n",
       "min      0.000000   17.000000  15301.000000    0.000000\n",
       "25%      1.000000   32.000000  26881.250000    0.000000\n",
       "50%      1.000000   41.000000  37662.500000    0.500000\n",
       "75%      2.000000   50.000000  49398.500000    1.000000\n",
       "max      3.000000   66.000000  78399.000000    1.000000"
      ]
     },
     "execution_count": 5,
     "metadata": {},
     "output_type": "execute_result"
    }
   ],
   "source": [
    "raw_df.describe()"
   ]
  },
  {
   "cell_type": "code",
   "execution_count": 6,
   "id": "aa8b76ee-bcc3-4246-b0d6-a2cb7df94050",
   "metadata": {},
   "outputs": [
    {
     "name": "stdout",
     "output_type": "stream",
     "text": [
      "<class 'pandas.core.series.Series'>\n",
      "RangeIndex: 246 entries, 0 to 245\n",
      "Series name: risk\n",
      "Non-Null Count  Dtype   \n",
      "--------------  -----   \n",
      "246 non-null    category\n",
      "dtypes: category(1)\n",
      "memory usage: 502.0 bytes\n"
     ]
    }
   ],
   "source": [
    "### Identify the Class Label or Y variable\n",
    "\n",
    "Y = raw_df.risk.astype('category')\n",
    "Y.info()"
   ]
  },
  {
   "cell_type": "code",
   "execution_count": 7,
   "id": "712f6182-abff-49fb-bd92-f6fe93037c5b",
   "metadata": {},
   "outputs": [
    {
     "data": {
      "text/plain": [
       "['mortgage', 'loans', 'age', 'marital_status', 'income']"
      ]
     },
     "execution_count": 7,
     "metadata": {},
     "output_type": "execute_result"
    }
   ],
   "source": [
    "### Select the Predictor Variables into a list called X_features\n",
    "\n",
    "X_features = list(raw_df.columns)\n",
    "X_features.remove('risk')\n",
    "X_features"
   ]
  },
  {
   "cell_type": "code",
   "execution_count": 8,
   "id": "10bb2705-4547-4670-809a-f4a65e0dd35e",
   "metadata": {},
   "outputs": [],
   "source": [
    "X = raw_df[X_features]"
   ]
  },
  {
   "cell_type": "code",
   "execution_count": 10,
   "id": "fe3c55c1-8202-4357-a11c-8ea9efb96b8e",
   "metadata": {},
   "outputs": [
    {
     "data": {
      "text/plain": [
       "<bound method Series.info of 70     1\n",
       "162    0\n",
       "163    0\n",
       "236    0\n",
       "1      1\n",
       "      ..\n",
       "206    0\n",
       "17     1\n",
       "65     1\n",
       "183    0\n",
       "90     1\n",
       "Name: risk, Length: 172, dtype: category\n",
       "Categories (2, int64): [0, 1]>"
      ]
     },
     "execution_count": 10,
     "metadata": {},
     "output_type": "execute_result"
    }
   ],
   "source": [
    "### Split data into Training(0.7) and Testing(0.3)\n",
    "\n",
    "from sklearn.model_selection import train_test_split\n",
    "X_train, X_test, y_train, y_test = train_test_split(X,Y,test_size =0.3,random_state=500)\n",
    "y_train.info"
   ]
  },
  {
   "cell_type": "code",
   "execution_count": 11,
   "id": "d1b3641d-5a0a-4887-8472-3999fbe6d579",
   "metadata": {},
   "outputs": [],
   "source": [
    "### Pre-process X-vars\n",
    "## 1. Identify  and dummy code (one-hot encoding) the categorical column\n",
    "\n",
    "categorical_columns = ['mortgage','marital_status']\n",
    "X_train_encoded=pd.get_dummies(X_train, columns=categorical_columns, drop_first =True, dtype = int)\n",
    "X_test_encoded=pd.get_dummies(X_test, columns=categorical_columns, drop_first =True, dtype = int)"
   ]
  },
  {
   "cell_type": "code",
   "execution_count": 12,
   "id": "ec1a3492-d635-4ffd-a8bf-c44974794dbe",
   "metadata": {},
   "outputs": [
    {
     "name": "stdout",
     "output_type": "stream",
     "text": [
      "<class 'pandas.core.frame.DataFrame'>\n",
      "Index: 172 entries, 70 to 90\n",
      "Data columns (total 6 columns):\n",
      " #   Column                 Non-Null Count  Dtype\n",
      "---  ------                 --------------  -----\n",
      " 0   loans                  172 non-null    int64\n",
      " 1   age                    172 non-null    int64\n",
      " 2   income                 172 non-null    int64\n",
      " 3   mortgage_y             172 non-null    int32\n",
      " 4   marital_status_other   172 non-null    int32\n",
      " 5   marital_status_single  172 non-null    int32\n",
      "dtypes: int32(3), int64(3)\n",
      "memory usage: 7.4 KB\n"
     ]
    }
   ],
   "source": [
    "X_train_encoded.info()"
   ]
  },
  {
   "cell_type": "code",
   "execution_count": 13,
   "id": "b10c6c83-8d03-4b73-9bea-fec94ed6dda0",
   "metadata": {},
   "outputs": [
    {
     "data": {
      "text/html": [
       "<div>\n",
       "<style scoped>\n",
       "    .dataframe tbody tr th:only-of-type {\n",
       "        vertical-align: middle;\n",
       "    }\n",
       "\n",
       "    .dataframe tbody tr th {\n",
       "        vertical-align: top;\n",
       "    }\n",
       "\n",
       "    .dataframe thead th {\n",
       "        text-align: right;\n",
       "    }\n",
       "</style>\n",
       "<table border=\"1\" class=\"dataframe\">\n",
       "  <thead>\n",
       "    <tr style=\"text-align: right;\">\n",
       "      <th></th>\n",
       "      <th>loans</th>\n",
       "      <th>age</th>\n",
       "      <th>income</th>\n",
       "      <th>mortgage_y</th>\n",
       "      <th>marital_status_other</th>\n",
       "      <th>marital_status_single</th>\n",
       "    </tr>\n",
       "  </thead>\n",
       "  <tbody>\n",
       "    <tr>\n",
       "      <th>70</th>\n",
       "      <td>2</td>\n",
       "      <td>25</td>\n",
       "      <td>23580</td>\n",
       "      <td>1</td>\n",
       "      <td>1</td>\n",
       "      <td>0</td>\n",
       "    </tr>\n",
       "    <tr>\n",
       "      <th>162</th>\n",
       "      <td>1</td>\n",
       "      <td>66</td>\n",
       "      <td>42120</td>\n",
       "      <td>0</td>\n",
       "      <td>0</td>\n",
       "      <td>0</td>\n",
       "    </tr>\n",
       "    <tr>\n",
       "      <th>163</th>\n",
       "      <td>1</td>\n",
       "      <td>56</td>\n",
       "      <td>51684</td>\n",
       "      <td>1</td>\n",
       "      <td>0</td>\n",
       "      <td>0</td>\n",
       "    </tr>\n",
       "    <tr>\n",
       "      <th>236</th>\n",
       "      <td>0</td>\n",
       "      <td>44</td>\n",
       "      <td>50793</td>\n",
       "      <td>1</td>\n",
       "      <td>0</td>\n",
       "      <td>0</td>\n",
       "    </tr>\n",
       "    <tr>\n",
       "      <th>1</th>\n",
       "      <td>2</td>\n",
       "      <td>37</td>\n",
       "      <td>28009</td>\n",
       "      <td>0</td>\n",
       "      <td>1</td>\n",
       "      <td>0</td>\n",
       "    </tr>\n",
       "  </tbody>\n",
       "</table>\n",
       "</div>"
      ],
      "text/plain": [
       "     loans  age  income  mortgage_y  marital_status_other  \\\n",
       "70       2   25   23580           1                     1   \n",
       "162      1   66   42120           0                     0   \n",
       "163      1   56   51684           1                     0   \n",
       "236      0   44   50793           1                     0   \n",
       "1        2   37   28009           0                     1   \n",
       "\n",
       "     marital_status_single  \n",
       "70                       0  \n",
       "162                      0  \n",
       "163                      0  \n",
       "236                      0  \n",
       "1                        0  "
      ]
     },
     "execution_count": 13,
     "metadata": {},
     "output_type": "execute_result"
    }
   ],
   "source": [
    "X_train_encoded.head()"
   ]
  },
  {
   "cell_type": "code",
   "execution_count": 13,
   "id": "48f9e246-3e6d-4261-b65e-413c854a0cd6",
   "metadata": {},
   "outputs": [
    {
     "data": {
      "image/png": "[encoded data removed]",
      "text/plain": [
       "<Figure size 800x600 with 2 Axes>"
      ]
     },
     "metadata": {},
     "output_type": "display_data"
    }
   ],
   "source": [
    "### 2. Identify and remove highly correlated columns\n",
    "corr_matrix = X_train_encoded.corr(numeric_only=True)\n",
    "plt.figure(figsize=(8,6))\n",
    "sns.heatmap(corr_matrix,annot=True, cmap='coolwarm', linewidth=0.5)\n",
    "plt.title('Correlation Heatmap')\n",
    "plt.show()"
   ]
  },
  {
   "cell_type": "code",
   "execution_count": 14,
   "id": "adc9eb14-8285-41bc-b292-33d4cda83c7e",
   "metadata": {},
   "outputs": [
    {
     "name": "stdout",
     "output_type": "stream",
     "text": [
      "Requirement already satisfied: statsmodels in c:\\users\\moudg\\anaconda3\\lib\\site-packages (0.14.0)Note: you may need to restart the kernel to use updated packages.\n",
      "\n",
      "Requirement already satisfied: numpy>=1.18 in c:\\users\\moudg\\anaconda3\\lib\\site-packages (from statsmodels) (1.26.4)\n",
      "Requirement already satisfied: scipy!=1.9.2,>=1.4 in c:\\users\\moudg\\anaconda3\\lib\\site-packages (from statsmodels) (1.11.4)\n",
      "Requirement already satisfied: pandas>=1.0 in c:\\users\\moudg\\anaconda3\\lib\\site-packages (from statsmodels) (2.1.4)\n",
      "Requirement already satisfied: patsy>=0.5.2 in c:\\users\\moudg\\anaconda3\\lib\\site-packages (from statsmodels) (0.5.3)\n",
      "Requirement already satisfied: packaging>=21.3 in c:\\users\\moudg\\anaconda3\\lib\\site-packages (from statsmodels) (23.1)\n",
      "Requirement already satisfied: python-dateutil>=2.8.2 in c:\\users\\moudg\\anaconda3\\lib\\site-packages (from pandas>=1.0->statsmodels) (2.8.2)\n",
      "Requirement already satisfied: pytz>=2020.1 in c:\\users\\moudg\\anaconda3\\lib\\site-packages (from pandas>=1.0->statsmodels) (2023.3.post1)\n",
      "Requirement already satisfied: tzdata>=2022.1 in c:\\users\\moudg\\anaconda3\\lib\\site-packages (from pandas>=1.0->statsmodels) (2023.3)\n",
      "Requirement already satisfied: six in c:\\users\\moudg\\anaconda3\\lib\\site-packages (from patsy>=0.5.2->statsmodels) (1.16.0)\n"
     ]
    }
   ],
   "source": [
    "#pip install statsmodels"
   ]
  },
  {
   "cell_type": "code",
   "execution_count": 15,
   "id": "5e6614df-0e44-4734-9574-f682b2caa1f1",
   "metadata": {},
   "outputs": [
    {
     "name": "stdout",
     "output_type": "stream",
     "text": [
      "Optimization terminated successfully.\n",
      "         Current function value: 0.152237\n",
      "         Iterations 9\n"
     ]
    },
    {
     "data": {
      "text/html": [
       "<table class=\"simpletable\">\n",
       "<tr>\n",
       "        <td>Model:</td>              <td>Logit</td>           <td>Method:</td>          <td>MLE</td>   \n",
       "</tr>\n",
       "<tr>\n",
       "  <td>Dependent Variable:</td>       <td>risk</td>       <td>Pseudo R-squared:</td>    <td>0.780</td>  \n",
       "</tr>\n",
       "<tr>\n",
       "         <td>Date:</td>        <td>2024-09-23 09:13</td>       <td>AIC:</td>          <td>66.3695</td> \n",
       "</tr>\n",
       "<tr>\n",
       "   <td>No. Observations:</td>         <td>172</td>             <td>BIC:</td>          <td>88.4020</td> \n",
       "</tr>\n",
       "<tr>\n",
       "       <td>Df Model:</td>              <td>6</td>         <td>Log-Likelihood:</td>    <td>-26.185</td> \n",
       "</tr>\n",
       "<tr>\n",
       "     <td>Df Residuals:</td>           <td>165</td>           <td>LL-Null:</td>        <td>-119.21</td> \n",
       "</tr>\n",
       "<tr>\n",
       "      <td>Converged:</td>           <td>1.0000</td>        <td>LLR p-value:</td>    <td>1.7591e-37</td>\n",
       "</tr>\n",
       "<tr>\n",
       "    <td>No. Iterations:</td>        <td>9.0000</td>           <td>Scale:</td>         <td>1.0000</td>  \n",
       "</tr>\n",
       "</table>\n",
       "<table class=\"simpletable\">\n",
       "<tr>\n",
       "            <td></td>             <th>Coef.</th>  <th>Std.Err.</th>    <th>z</th>     <th>P>|z|</th> <th>[0.025</th>  <th>0.975]</th> \n",
       "</tr>\n",
       "<tr>\n",
       "  <th>const</th>                 <td>19.6403</td>  <td>4.1681</td>  <td>4.7121</td>  <td>0.0000</td> <td>11.4710</td> <td>27.8095</td>\n",
       "</tr>\n",
       "<tr>\n",
       "  <th>loans</th>                 <td>-2.6119</td>  <td>0.8260</td>  <td>-3.1622</td> <td>0.0016</td> <td>-4.2308</td> <td>-0.9930</td>\n",
       "</tr>\n",
       "<tr>\n",
       "  <th>age</th>                   <td>-0.1307</td>  <td>0.0412</td>  <td>-3.1731</td> <td>0.0015</td> <td>-0.2115</td> <td>-0.0500</td>\n",
       "</tr>\n",
       "<tr>\n",
       "  <th>income</th>                <td>-0.0004</td>  <td>0.0001</td>  <td>-4.7928</td> <td>0.0000</td> <td>-0.0006</td> <td>-0.0002</td>\n",
       "</tr>\n",
       "<tr>\n",
       "  <th>mortgage_y</th>            <td>2.2136</td>   <td>0.9480</td>  <td>2.3349</td>  <td>0.0195</td> <td>0.3555</td>  <td>4.0718</td> \n",
       "</tr>\n",
       "<tr>\n",
       "  <th>marital_status_other</th>  <td>6.1184</td>   <td>1.9205</td>  <td>3.1859</td>  <td>0.0014</td> <td>2.3543</td>  <td>9.8826</td> \n",
       "</tr>\n",
       "<tr>\n",
       "  <th>marital_status_single</th> <td>3.1364</td>   <td>0.9450</td>  <td>3.3189</td>  <td>0.0009</td> <td>1.2842</td>  <td>4.9886</td> \n",
       "</tr>\n",
       "</table><br/>\n"
      ],
      "text/latex": [
       "\\begin{table}\n",
       "\\caption{Results: Logit}\n",
       "\\label{}\n",
       "\\begin{center}\n",
       "\\begin{tabular}{llll}\n",
       "\\hline\n",
       "Model:              & Logit            & Method:           & MLE         \\\\\n",
       "Dependent Variable: & risk             & Pseudo R-squared: & 0.780       \\\\\n",
       "Date:               & 2024-09-23 09:13 & AIC:              & 66.3695     \\\\\n",
       "No. Observations:   & 172              & BIC:              & 88.4020     \\\\\n",
       "Df Model:           & 6                & Log-Likelihood:   & -26.185     \\\\\n",
       "Df Residuals:       & 165              & LL-Null:          & -119.21     \\\\\n",
       "Converged:          & 1.0000           & LLR p-value:      & 1.7591e-37  \\\\\n",
       "No. Iterations:     & 9.0000           & Scale:            & 1.0000      \\\\\n",
       "\\hline\n",
       "\\end{tabular}\n",
       "\\end{center}\n",
       "\n",
       "\\begin{center}\n",
       "\\begin{tabular}{lrrrrrr}\n",
       "\\hline\n",
       "                        &   Coef. & Std.Err. &       z & P$> |$z$|$ &  [0.025 &  0.975]  \\\\\n",
       "\\hline\n",
       "const                   & 19.6403 &   4.1681 &  4.7121 &      0.0000 & 11.4710 & 27.8095  \\\\\n",
       "loans                   & -2.6119 &   0.8260 & -3.1622 &      0.0016 & -4.2308 & -0.9930  \\\\\n",
       "age                     & -0.1307 &   0.0412 & -3.1731 &      0.0015 & -0.2115 & -0.0500  \\\\\n",
       "income                  & -0.0004 &   0.0001 & -4.7928 &      0.0000 & -0.0006 & -0.0002  \\\\\n",
       "mortgage\\_y             &  2.2136 &   0.9480 &  2.3349 &      0.0195 &  0.3555 &  4.0718  \\\\\n",
       "marital\\_status\\_other  &  6.1184 &   1.9205 &  3.1859 &      0.0014 &  2.3543 &  9.8826  \\\\\n",
       "marital\\_status\\_single &  3.1364 &   0.9450 &  3.3189 &      0.0009 &  1.2842 &  4.9886  \\\\\n",
       "\\hline\n",
       "\\end{tabular}\n",
       "\\end{center}\n",
       "\\end{table}\n",
       "\\bigskip\n"
      ],
      "text/plain": [
       "<class 'statsmodels.iolib.summary2.Summary'>\n",
       "\"\"\"\n",
       "                           Results: Logit\n",
       "=====================================================================\n",
       "Model:                Logit             Method:            MLE       \n",
       "Dependent Variable:   risk              Pseudo R-squared:  0.780     \n",
       "Date:                 2024-09-23 09:13  AIC:               66.3695   \n",
       "No. Observations:     172               BIC:               88.4020   \n",
       "Df Model:             6                 Log-Likelihood:    -26.185   \n",
       "Df Residuals:         165               LL-Null:           -119.21   \n",
       "Converged:            1.0000            LLR p-value:       1.7591e-37\n",
       "No. Iterations:       9.0000            Scale:             1.0000    \n",
       "---------------------------------------------------------------------\n",
       "                       Coef.  Std.Err.    z    P>|z|   [0.025  0.975]\n",
       "---------------------------------------------------------------------\n",
       "const                 19.6403   4.1681  4.7121 0.0000 11.4710 27.8095\n",
       "loans                 -2.6119   0.8260 -3.1622 0.0016 -4.2308 -0.9930\n",
       "age                   -0.1307   0.0412 -3.1731 0.0015 -0.2115 -0.0500\n",
       "income                -0.0004   0.0001 -4.7928 0.0000 -0.0006 -0.0002\n",
       "mortgage_y             2.2136   0.9480  2.3349 0.0195  0.3555  4.0718\n",
       "marital_status_other   6.1184   1.9205  3.1859 0.0014  2.3543  9.8826\n",
       "marital_status_single  3.1364   0.9450  3.3189 0.0009  1.2842  4.9886\n",
       "=====================================================================\n",
       "\n",
       "\"\"\""
      ]
     },
     "execution_count": 15,
     "metadata": {},
     "output_type": "execute_result"
    }
   ],
   "source": [
    "#build the logit model\n",
    "\n",
    "import statsmodels.api as sm\n",
    "X_train_encoded = sm.add_constant(X_train_encoded)\n",
    "logit = sm.Logit(y_train, X_train_encoded)\n",
    "logit_model = logit.fit()\n",
    "logit_model.summary2()"
   ]
  },
  {
   "cell_type": "code",
   "execution_count": 16,
   "id": "d65ca916-4cdc-4354-bdc0-e1b4908517f5",
   "metadata": {},
   "outputs": [],
   "source": [
    "#Only Significant X-vars are used to build the predictive model\n",
    "#All variables are significant so we use all X-vars"
   ]
  },
  {
   "cell_type": "code",
   "execution_count": 19,
   "id": "c056e7cd-69e1-4f41-a299-196d67e8fbfc",
   "metadata": {},
   "outputs": [],
   "source": [
    "#Apply model on test data\n",
    "X_test_encoded = sm.add_constant(X_test_encoded)\n",
    "y_prob = logit_model.predict(X_test_encoded)\n",
    "#y_prob holds probability values for each record in test data"
   ]
  },
  {
   "cell_type": "code",
   "execution_count": 20,
   "id": "6321dd25-65d0-4470-b0af-defea8f2c881",
   "metadata": {},
   "outputs": [
    {
     "data": {
      "text/plain": [
       "61     0.999376\n",
       "124    0.097099\n",
       "220    0.003061\n",
       "224    0.002738\n",
       "55     0.984251\n",
       "         ...   \n",
       "66     0.999942\n",
       "154    0.018371\n",
       "80     0.999871\n",
       "28     0.998858\n",
       "230    0.954197\n",
       "Length: 74, dtype: float64"
      ]
     },
     "execution_count": 20,
     "metadata": {},
     "output_type": "execute_result"
    }
   ],
   "source": [
    "y_prob"
   ]
  },
  {
   "cell_type": "code",
   "execution_count": 21,
   "id": "31b25166-0cfa-4ee1-8f26-c87299412980",
   "metadata": {},
   "outputs": [],
   "source": [
    "y_pred_df = pd.DataFrame({\"actual_Y\": y_test,\"predicted_prob\":y_prob})"
   ]
  },
  {
   "cell_type": "code",
   "execution_count": 22,
   "id": "35f0232b-fe38-4ac1-9f82-ff61b79a02c0",
   "metadata": {},
   "outputs": [
    {
     "data": {
      "text/html": [
       "<div>\n",
       "<style scoped>\n",
       "    .dataframe tbody tr th:only-of-type {\n",
       "        vertical-align: middle;\n",
       "    }\n",
       "\n",
       "    .dataframe tbody tr th {\n",
       "        vertical-align: top;\n",
       "    }\n",
       "\n",
       "    .dataframe thead th {\n",
       "        text-align: right;\n",
       "    }\n",
       "</style>\n",
       "<table border=\"1\" class=\"dataframe\">\n",
       "  <thead>\n",
       "    <tr style=\"text-align: right;\">\n",
       "      <th></th>\n",
       "      <th>actual_Y</th>\n",
       "      <th>predicted_prob</th>\n",
       "    </tr>\n",
       "  </thead>\n",
       "  <tbody>\n",
       "    <tr>\n",
       "      <th>61</th>\n",
       "      <td>1</td>\n",
       "      <td>0.999376</td>\n",
       "    </tr>\n",
       "    <tr>\n",
       "      <th>124</th>\n",
       "      <td>0</td>\n",
       "      <td>0.097099</td>\n",
       "    </tr>\n",
       "    <tr>\n",
       "      <th>220</th>\n",
       "      <td>0</td>\n",
       "      <td>0.003061</td>\n",
       "    </tr>\n",
       "    <tr>\n",
       "      <th>224</th>\n",
       "      <td>0</td>\n",
       "      <td>0.002738</td>\n",
       "    </tr>\n",
       "    <tr>\n",
       "      <th>55</th>\n",
       "      <td>1</td>\n",
       "      <td>0.984251</td>\n",
       "    </tr>\n",
       "  </tbody>\n",
       "</table>\n",
       "</div>"
      ],
      "text/plain": [
       "    actual_Y  predicted_prob\n",
       "61         1        0.999376\n",
       "124        0        0.097099\n",
       "220        0        0.003061\n",
       "224        0        0.002738\n",
       "55         1        0.984251"
      ]
     },
     "execution_count": 22,
     "metadata": {},
     "output_type": "execute_result"
    }
   ],
   "source": [
    "y_pred_df.head()"
   ]
  },
  {
   "cell_type": "code",
   "execution_count": 23,
   "id": "1e8327b0-1ef2-4894-ad79-dbde14c05b4a",
   "metadata": {},
   "outputs": [
    {
     "data": {
      "text/html": [
       "<div>\n",
       "<style scoped>\n",
       "    .dataframe tbody tr th:only-of-type {\n",
       "        vertical-align: middle;\n",
       "    }\n",
       "\n",
       "    .dataframe tbody tr th {\n",
       "        vertical-align: top;\n",
       "    }\n",
       "\n",
       "    .dataframe thead th {\n",
       "        text-align: right;\n",
       "    }\n",
       "</style>\n",
       "<table border=\"1\" class=\"dataframe\">\n",
       "  <thead>\n",
       "    <tr style=\"text-align: right;\">\n",
       "      <th></th>\n",
       "      <th>actual_Y</th>\n",
       "      <th>predicted_prob</th>\n",
       "      <th>predicted_Y</th>\n",
       "    </tr>\n",
       "  </thead>\n",
       "  <tbody>\n",
       "    <tr>\n",
       "      <th>61</th>\n",
       "      <td>1</td>\n",
       "      <td>0.999376</td>\n",
       "      <td>1</td>\n",
       "    </tr>\n",
       "    <tr>\n",
       "      <th>124</th>\n",
       "      <td>0</td>\n",
       "      <td>0.097099</td>\n",
       "      <td>0</td>\n",
       "    </tr>\n",
       "    <tr>\n",
       "      <th>220</th>\n",
       "      <td>0</td>\n",
       "      <td>0.003061</td>\n",
       "      <td>0</td>\n",
       "    </tr>\n",
       "    <tr>\n",
       "      <th>224</th>\n",
       "      <td>0</td>\n",
       "      <td>0.002738</td>\n",
       "      <td>0</td>\n",
       "    </tr>\n",
       "    <tr>\n",
       "      <th>55</th>\n",
       "      <td>1</td>\n",
       "      <td>0.984251</td>\n",
       "      <td>1</td>\n",
       "    </tr>\n",
       "  </tbody>\n",
       "</table>\n",
       "</div>"
      ],
      "text/plain": [
       "    actual_Y  predicted_prob  predicted_Y\n",
       "61         1        0.999376            1\n",
       "124        0        0.097099            0\n",
       "220        0        0.003061            0\n",
       "224        0        0.002738            0\n",
       "55         1        0.984251            1"
      ]
     },
     "execution_count": 23,
     "metadata": {},
     "output_type": "execute_result"
    }
   ],
   "source": [
    "#based on default cutoff 0.5\n",
    "y_pred_df[\"predicted_Y\"] = y_pred_df.predicted_prob.map(lambda x: 1 if x>=0.5 else 0)\n",
    "y_pred_df.head()"
   ]
  },
  {
   "cell_type": "code",
   "execution_count": 24,
   "id": "f2ea765b-f148-4151-81f4-dbebcea2465b",
   "metadata": {},
   "outputs": [
    {
     "name": "stdout",
     "output_type": "stream",
     "text": [
      "[[36  2]\n",
      " [ 3 33]]\n"
     ]
    }
   ],
   "source": [
    "from sklearn.metrics import confusion_matrix\n",
    "#generating confusion matrix\n",
    "cm = confusion_matrix(y_pred_df['actual_Y'],y_pred_df['predicted_Y'])\n",
    "print(cm)"
   ]
  },
  {
   "cell_type": "code",
   "execution_count": 29,
   "id": "716e3cf7-70e9-413e-8804-50f05390b4ae",
   "metadata": {},
   "outputs": [
    {
     "data": {
      "image/png": "[encoded data removed]",
      "text/plain": [
       "<Figure size 300x300 with 1 Axes>"
      ]
     },
     "metadata": {},
     "output_type": "display_data"
    }
   ],
   "source": [
    " plt.figure(figsize=(3,3))\n",
    "sns.heatmap(cm, annot=True, fmt = 'd', cmap='Blues', cbar = False, \n",
    "           xticklabels = ['Predicted 0','Predicted 1'],\n",
    "           yticklabels = ['Actual 0','Actual 1'])\n",
    "plt.title(\"Confusion Matrix\")\n",
    "plt.ylabel(\"Actual\")\n",
    "plt.xlabel(\"Predicted\")\n",
    "plt.show()"
   ]
  },
  {
   "cell_type": "code",
   "execution_count": 25,
   "id": "6fb26206-2910-4e63-8426-ed58f52bf88e",
   "metadata": {},
   "outputs": [
    {
     "name": "stdout",
     "output_type": "stream",
     "text": [
      "Sensitivity (Recall): 0.92\n",
      "Accuracy: 0.93\n"
     ]
    }
   ],
   "source": [
    "#Sensitivity (recall), Specificity, Accuracy\n",
    "from sklearn.metrics import accuracy_score, recall_score, precision_score\n",
    "sensitivity = recall_score(y_pred_df['actual_Y'],y_pred_df['predicted_Y'])\n",
    "accuracy = accuracy_score(y_pred_df['actual_Y'],y_pred_df['predicted_Y'])\n",
    "print(f\"Sensitivity (Recall): {sensitivity:.2f}\")\n",
    "print(f\"Accuracy: {accuracy:.2f}\")"
   ]
  },
  {
   "cell_type": "code",
   "execution_count": 26,
   "id": "13d03cdd-e24d-4f23-aeea-9d083b528aed",
   "metadata": {},
   "outputs": [
    {
     "name": "stdout",
     "output_type": "stream",
     "text": [
      "\n",
      "Classificiation report: \n",
      "              precision    recall  f1-score   support\n",
      "\n",
      "           0       0.92      0.95      0.94        38\n",
      "           1       0.94      0.92      0.93        36\n",
      "\n",
      "    accuracy                           0.93        74\n",
      "   macro avg       0.93      0.93      0.93        74\n",
      "weighted avg       0.93      0.93      0.93        74\n",
      "\n"
     ]
    }
   ],
   "source": [
    "from sklearn.metrics import confusion_matrix, classification_report\n",
    "print(\"\\nClassificiation report: \")\n",
    "print(classification_report(y_pred_df['actual_Y'],y_pred_df['predicted_Y']))"
   ]
  },
  {
   "cell_type": "markdown",
   "id": "6b55a803-2be3-4b65-ace1-3db1ae029bdc",
   "metadata": {},
   "source": [
    "#### Implications/Recommendations\n",
    "#### 93% Accuracy\n",
    "#### 92% sensitivity\n",
    "#### 95% specificity\n",
    "#### 92% credit reating -> Accept the model at this threshold of 0.5\n"
   ]
  },
  {
   "cell_type": "markdown",
   "id": "da6f8352-dae7-4670-a061-85f897fcd052",
   "metadata": {},
   "source": [
    "## CLass 1 => performance is high - is a good model\n",
    "## Higher Sensitivity is recommended"
   ]
  },
  {
   "cell_type": "code",
   "execution_count": 27,
   "id": "d5512f66-707a-456f-be16-c1d44d6a01d5",
   "metadata": {},
   "outputs": [
    {
     "data": {
      "image/png": "[encoded data removed]",
      "text/plain": [
       "<Figure size 800x600 with 1 Axes>"
      ]
     },
     "metadata": {},
     "output_type": "display_data"
    }
   ],
   "source": [
    "# Plot ROC curve\n",
    "import numpy as np\n",
    "import matplotlib.pyplot as plt\n",
    "from sklearn.metrics import roc_curve,auc\n",
    "# Compute ROC curve\n",
    "fpr, tpr, thresholds = roc_curve(y_pred_df['actual_Y'], y_pred_df['predicted_prob'])\n",
    "roc_auc = auc(fpr, tpr)\n",
    "# Plotting the ROC curve\n",
    "plt.figure(figsize=(8, 6))\n",
    "plt.plot(fpr, tpr, color='blue', lw=2, label='ROC curve (area = {:.2f})'.format(roc_auc))\n",
    "plt.plot([0, 1], [0, 1], color='red', linestyle='--')  # Diagonal line\n",
    "plt.xlim([0.0, 1.0])\n",
    "plt.ylim([0.0, 1.05])\n",
    "plt.xlabel('False Positive Rate')\n",
    "plt.ylabel('True Positive Rate')\n",
    "plt.title('Receiver Operating Characteristic (ROC) Curve')\n",
    "plt.legend(loc='lower right')\n",
    "plt.show()"
   ]
  },
  {
   "cell_type": "code",
   "execution_count": 29,
   "id": "60dade73-0b1b-49c0-b2ef-64b8759e1f50",
   "metadata": {},
   "outputs": [],
   "source": [
    "import numpy as np\n",
    "import pandas as pd\n",
    "from sklearn.metrics import confusion_matrix\n",
    "\n",
    "def compute_sensitivity_table(y_actual, y_prob, specific_thresholds=np.arange(0.1, 0.5, 0.01)):\n",
    "    \"\"\"\n",
    "    This function computes and prints a table of sensitivity (TPR) values for specified thresholds (0.1 to 0.5).\n",
    "    \n",
    "    Parameters:\n",
    "    y_actual: array-like\n",
    "        The actual binary labels.\n",
    "    y_prob: array-like\n",
    "        The predicted probabilities for the positive class.\n",
    "    specific_thresholds: array-like, optional\n",
    "        The specific thresholds for which to compute sensitivity. Default is np.arange(0.1, 0.5, 0.01).\n",
    "    \"\"\"\n",
    "    \n",
    "    results = []  # List to store results for the table\n",
    "\n",
    "    for threshold in specific_thresholds:\n",
    "        # Convert predicted probabilities to binary predictions based on the threshold\n",
    "        y_pred = (y_prob >= threshold).astype(int)\n",
    "        \n",
    "        # Get the confusion matrix\n",
    "        tn, fp, fn, tp = confusion_matrix(y_actual, y_pred).ravel()\n",
    "        \n",
    "        # Calculate TPR (Sensitivity)\n",
    "        tpr = tp / (tp + fn) if (tp + fn) > 0 else 0  # Avoid division by zero\n",
    "        \n",
    "        # Append results\n",
    "        results.append({'Threshold': threshold, 'Sensitivity (TPR)': tpr})\n",
    "\n",
    "    # Create a DataFrame for better formatting\n",
    "    sensitivity_table = pd.DataFrame(results)\n",
    "    \n",
    "    # Print the sensitivity table\n",
    "    print(sensitivity_table)"
   ]
  },
  {
   "cell_type": "code",
   "execution_count": 30,
   "id": "3767acf8-4ab0-4daa-8679-abafec69cd00",
   "metadata": {},
   "outputs": [
    {
     "name": "stdout",
     "output_type": "stream",
     "text": [
      "    Threshold  Sensitivity (TPR)\n",
      "0        0.10           1.000000\n",
      "1        0.11           1.000000\n",
      "2        0.12           1.000000\n",
      "3        0.13           1.000000\n",
      "4        0.14           1.000000\n",
      "5        0.15           1.000000\n",
      "6        0.16           0.972222\n",
      "7        0.17           0.972222\n",
      "8        0.18           0.972222\n",
      "9        0.19           0.972222\n",
      "10       0.20           0.972222\n",
      "11       0.21           0.972222\n",
      "12       0.22           0.972222\n",
      "13       0.23           0.944444\n",
      "14       0.24           0.944444\n",
      "15       0.25           0.944444\n",
      "16       0.26           0.944444\n",
      "17       0.27           0.944444\n",
      "18       0.28           0.944444\n",
      "19       0.29           0.944444\n",
      "20       0.30           0.944444\n",
      "21       0.31           0.944444\n",
      "22       0.32           0.944444\n",
      "23       0.33           0.944444\n",
      "24       0.34           0.944444\n",
      "25       0.35           0.944444\n",
      "26       0.36           0.944444\n",
      "27       0.37           0.916667\n",
      "28       0.38           0.916667\n",
      "29       0.39           0.916667\n",
      "30       0.40           0.916667\n",
      "31       0.41           0.916667\n",
      "32       0.42           0.916667\n",
      "33       0.43           0.916667\n",
      "34       0.44           0.916667\n",
      "35       0.45           0.916667\n",
      "36       0.46           0.916667\n",
      "37       0.47           0.916667\n",
      "38       0.48           0.916667\n",
      "39       0.49           0.916667\n"
     ]
    }
   ],
   "source": [
    "compute_sensitivity_table(y_pred_df['actual_Y'], y_pred_df['predicted_prob'])"
   ]
  },
  {
   "cell_type": "code",
   "execution_count": 31,
   "id": "2fc9fe72-81fc-401e-a66e-4c09de126ba6",
   "metadata": {},
   "outputs": [],
   "source": [
    "## here we for a higher sensitivity we need to choose a cut-off/threshold of 0.16 this can be seen from the above table"
   ]
  },
  {
   "cell_type": "code",
   "execution_count": null,
   "id": "400aafec-4f20-4ad8-916b-f7b56de85656",
   "metadata": {},
   "outputs": [],
   "source": []
  }
 ],
 "metadata": {
  "kernelspec": {
   "display_name": "Python 3 (ipykernel)",
   "language": "python",
   "name": "python3"
  },
  "language_info": {
   "codemirror_mode": {
    "name": "ipython",
    "version": 3
   },
   "file_extension": ".py",
   "mimetype": "text/x-python",
   "name": "python",
   "nbconvert_exporter": "python",
   "pygments_lexer": "ipython3",
   "version": "3.11.7"
  }
 },
 "nbformat": 4,
 "nbformat_minor": 5
}
